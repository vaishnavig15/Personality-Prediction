{
  "cells": [
    {
      "cell_type": "markdown",
      "source": [
        "# **Personality Prediction on Myers-Briggs Type Indicator Using ML, DL & NLP Techniques**\n",
        "\n",
        "---\n",
        "\n"
      ],
      "metadata": {
        "id": "cGSjHef3D-Ew"
      }
    },
    {
      "cell_type": "code",
      "execution_count": null,
      "metadata": {
        "colab": {
          "base_uri": "https://localhost:8080/"
        },
        "id": "j5MRZqjh21x9",
        "outputId": "dca0a91d-c3d8-4182-b9a6-ce964faede5e"
      },
      "outputs": [
        {
          "output_type": "stream",
          "name": "stdout",
          "text": [
            "Drive already mounted at /content/drive; to attempt to forcibly remount, call drive.mount(\"/content/drive\", force_remount=True).\n"
          ]
        }
      ],
      "source": [
        "from google.colab import drive\n",
        "\n",
        "drive.mount('/content/drive')"
      ]
    },
    {
      "cell_type": "code",
      "execution_count": null,
      "metadata": {
        "id": "skXhuLVY3ZfP"
      },
      "outputs": [],
      "source": [
        "# Importing al libraries\n",
        "import pandas as pd\n",
        "import numpy as np\n",
        "from numpy import asarray\n",
        "from numpy import savetxt\n",
        "from numpy import loadtxt\n",
        "import pickle as pkl\n",
        "from scipy import sparse\n",
        "\n",
        "# Data Visualization\n",
        "import seaborn as sns\n",
        "import matplotlib.pyplot as plt\n",
        "import wordcloud\n",
        "from wordcloud import WordCloud, STOPWORDS\n",
        "\n",
        "# Text Processing\n",
        "import re\n",
        "import itertools\n",
        "import string\n",
        "import collections\n",
        "from collections import Counter\n",
        "from sklearn.preprocessing import LabelEncoder\n",
        "import nltk\n",
        "from nltk.classify import NaiveBayesClassifier\n",
        "from nltk.corpus import stopwords\n",
        "from nltk import word_tokenize\n",
        "from nltk.tokenize import word_tokenize\n",
        "from nltk.stem import PorterStemmer, WordNetLemmatizer\n",
        "\n",
        "# Machine Learning packages\n",
        "import sklearn\n",
        "from sklearn.feature_extraction.text import CountVectorizer\n",
        "from sklearn.feature_extraction.text import TfidfVectorizer\n",
        "from sklearn.feature_extraction.text import TfidfTransformer\n",
        "import sklearn.cluster as cluster\n",
        "from sklearn.manifold import TSNE\n",
        "\n",
        "# Model training and evaluation\n",
        "from sklearn.model_selection import train_test_split\n",
        "\n",
        "#Models\n",
        "from sklearn.linear_model import LogisticRegression\n",
        "from sklearn.linear_model import SGDClassifier\n",
        "from sklearn.neighbors import KNeighborsClassifier\n",
        "from sklearn.naive_bayes import GaussianNB\n",
        "from sklearn.svm import SVC\n",
        "from sklearn.ensemble import RandomForestClassifier, GradientBoostingClassifier\n",
        "from xgboost import XGBClassifier\n",
        "from xgboost import plot_importance\n",
        "\n",
        "#Metrics\n",
        "from sklearn.metrics import r2_score, mean_squared_error, mean_absolute_error, accuracy_score, balanced_accuracy_score\n",
        "from sklearn.metrics import precision_score, recall_score, f1_score, multilabel_confusion_matrix, confusion_matrix\n",
        "from sklearn.metrics import classification_report\n",
        "\n",
        "# Ignore noise warning\n",
        "import warnings\n",
        "warnings.filterwarnings(\"ignore\")"
      ]
    },
    {
      "cell_type": "markdown",
      "metadata": {
        "id": "dRsvDRY53ow6"
      },
      "source": [
        "# **Following is the link to our dataset**:\n",
        "https://www.kaggle.com/datasnaek/mbti-type\n",
        "\n",
        "This dataset is on kaggle which consists of 2 features as first is \"posts\" 50 social media posts in the form of string seperated by ||| and second is (type) Personality Types with total 8675 rows"
      ]
    },
    {
      "cell_type": "code",
      "execution_count": null,
      "metadata": {
        "id": "ISydnKRX3if3"
      },
      "outputs": [],
      "source": [
        "#load the dataset into dataframe\n",
        "mbti_df = pd.read_csv(\"/content/drive/MyDrive/ML Project/mbti_1.csv\")\n"
      ]
    },
    {
      "cell_type": "markdown",
      "metadata": {
        "id": "hJmbGy-o7JUT"
      },
      "source": [
        "### Exploratory Data Analysis (EDA)"
      ]
    },
    {
      "cell_type": "code",
      "execution_count": null,
      "metadata": {
        "colab": {
          "base_uri": "https://localhost:8080/",
          "height": 206
        },
        "id": "kfmrm34Z7UTT",
        "outputId": "58ae187e-7603-4199-9239-a1bc418c2295"
      },
      "outputs": [
        {
          "output_type": "execute_result",
          "data": {
            "text/html": [
              "<div>\n",
              "<style scoped>\n",
              "    .dataframe tbody tr th:only-of-type {\n",
              "        vertical-align: middle;\n",
              "    }\n",
              "\n",
              "    .dataframe tbody tr th {\n",
              "        vertical-align: top;\n",
              "    }\n",
              "\n",
              "    .dataframe thead th {\n",
              "        text-align: right;\n",
              "    }\n",
              "</style>\n",
              "<table border=\"1\" class=\"dataframe\">\n",
              "  <thead>\n",
              "    <tr style=\"text-align: right;\">\n",
              "      <th></th>\n",
              "      <th>type</th>\n",
              "      <th>posts</th>\n",
              "    </tr>\n",
              "  </thead>\n",
              "  <tbody>\n",
              "    <tr>\n",
              "      <th>0</th>\n",
              "      <td>INFJ</td>\n",
              "      <td>'http://www.youtube.com/watch?v=qsXHcwe3krw|||...</td>\n",
              "    </tr>\n",
              "    <tr>\n",
              "      <th>1</th>\n",
              "      <td>ENTP</td>\n",
              "      <td>'I'm finding the lack of me in these posts ver...</td>\n",
              "    </tr>\n",
              "    <tr>\n",
              "      <th>2</th>\n",
              "      <td>INTP</td>\n",
              "      <td>'Good one  _____   https://www.youtube.com/wat...</td>\n",
              "    </tr>\n",
              "    <tr>\n",
              "      <th>3</th>\n",
              "      <td>INTJ</td>\n",
              "      <td>'Dear INTP,   I enjoyed our conversation the o...</td>\n",
              "    </tr>\n",
              "    <tr>\n",
              "      <th>4</th>\n",
              "      <td>ENTJ</td>\n",
              "      <td>'You're fired.|||That's another silly misconce...</td>\n",
              "    </tr>\n",
              "  </tbody>\n",
              "</table>\n",
              "</div>"
            ],
            "text/plain": [
              "   type                                              posts\n",
              "0  INFJ  'http://www.youtube.com/watch?v=qsXHcwe3krw|||...\n",
              "1  ENTP  'I'm finding the lack of me in these posts ver...\n",
              "2  INTP  'Good one  _____   https://www.youtube.com/wat...\n",
              "3  INTJ  'Dear INTP,   I enjoyed our conversation the o...\n",
              "4  ENTJ  'You're fired.|||That's another silly misconce..."
            ]
          },
          "metadata": {},
          "execution_count": 6
        }
      ],
      "source": [
        "#First 5 rows of dataset is as follows\n",
        "mbti_df.head()"
      ]
    },
    {
      "cell_type": "code",
      "execution_count": null,
      "metadata": {
        "colab": {
          "base_uri": "https://localhost:8080/"
        },
        "id": "sk7BrRLR5rhS",
        "outputId": "68c943ad-6b66-441e-a3df-04916a65131b"
      },
      "outputs": [
        {
          "output_type": "execute_result",
          "data": {
            "text/plain": [
              "(8675, 2)"
            ]
          },
          "metadata": {},
          "execution_count": 7
        }
      ],
      "source": [
        "mbti_df.shape"
      ]
    },
    {
      "cell_type": "markdown",
      "metadata": {
        "id": "8-4dBO-S8wm9"
      },
      "source": [
        "As can be seen above, There exits 8675 rows and 2 columns"
      ]
    },
    {
      "cell_type": "code",
      "execution_count": null,
      "metadata": {
        "colab": {
          "base_uri": "https://localhost:8080/"
        },
        "id": "mYK4DEyZ6RiA",
        "outputId": "90aa021c-4b0c-4c51-dc4e-19473bd0ae67"
      },
      "outputs": [
        {
          "output_type": "stream",
          "name": "stdout",
          "text": [
            "<class 'pandas.core.frame.DataFrame'>\n",
            "RangeIndex: 8675 entries, 0 to 8674\n",
            "Data columns (total 2 columns):\n",
            " #   Column  Non-Null Count  Dtype \n",
            "---  ------  --------------  ----- \n",
            " 0   type    8675 non-null   object\n",
            " 1   posts   8675 non-null   object\n",
            "dtypes: object(2)\n",
            "memory usage: 135.7+ KB\n"
          ]
        }
      ],
      "source": [
        "mbti_df.info()"
      ]
    },
    {
      "cell_type": "markdown",
      "metadata": {
        "id": "veUcaH6u87Km"
      },
      "source": [
        "Type of both the columns as of type object "
      ]
    },
    {
      "cell_type": "code",
      "execution_count": null,
      "metadata": {
        "colab": {
          "base_uri": "https://localhost:8080/",
          "height": 174
        },
        "id": "PmbVEox87ZbP",
        "outputId": "91ed2380-a1b5-4ebc-e396-34bb0ffebe8b"
      },
      "outputs": [
        {
          "output_type": "execute_result",
          "data": {
            "text/html": [
              "<div>\n",
              "<style scoped>\n",
              "    .dataframe tbody tr th:only-of-type {\n",
              "        vertical-align: middle;\n",
              "    }\n",
              "\n",
              "    .dataframe tbody tr th {\n",
              "        vertical-align: top;\n",
              "    }\n",
              "\n",
              "    .dataframe thead th {\n",
              "        text-align: right;\n",
              "    }\n",
              "</style>\n",
              "<table border=\"1\" class=\"dataframe\">\n",
              "  <thead>\n",
              "    <tr style=\"text-align: right;\">\n",
              "      <th></th>\n",
              "      <th>type</th>\n",
              "      <th>posts</th>\n",
              "    </tr>\n",
              "  </thead>\n",
              "  <tbody>\n",
              "    <tr>\n",
              "      <th>count</th>\n",
              "      <td>8675</td>\n",
              "      <td>8675</td>\n",
              "    </tr>\n",
              "    <tr>\n",
              "      <th>unique</th>\n",
              "      <td>16</td>\n",
              "      <td>8675</td>\n",
              "    </tr>\n",
              "    <tr>\n",
              "      <th>top</th>\n",
              "      <td>INFP</td>\n",
              "      <td>'I would say that John from Homestuck is eithe...</td>\n",
              "    </tr>\n",
              "    <tr>\n",
              "      <th>freq</th>\n",
              "      <td>1832</td>\n",
              "      <td>1</td>\n",
              "    </tr>\n",
              "  </tbody>\n",
              "</table>\n",
              "</div>"
            ],
            "text/plain": [
              "        type                                              posts\n",
              "count   8675                                               8675\n",
              "unique    16                                               8675\n",
              "top     INFP  'I would say that John from Homestuck is eithe...\n",
              "freq    1832                                                  1"
            ]
          },
          "metadata": {},
          "execution_count": 9
        }
      ],
      "source": [
        "mbti_df.describe()"
      ]
    },
    {
      "cell_type": "markdown",
      "metadata": {
        "id": "HeNbDbSy9EK-"
      },
      "source": [
        "\n",
        "\n",
        "1.   There exists 16 unique personality types.\n",
        "2.   Personality type **INFJ** is most frequently occured in the dataset.\n",
        "3.   Posts are all unique.\n",
        "\n"
      ]
    },
    {
      "cell_type": "code",
      "execution_count": null,
      "metadata": {
        "colab": {
          "base_uri": "https://localhost:8080/"
        },
        "id": "uIWZpoiA7dRY",
        "outputId": "38461a2c-0f17-498c-8c17-47ed142a9af7"
      },
      "outputs": [
        {
          "output_type": "execute_result",
          "data": {
            "text/plain": [
              "type     False\n",
              "posts    False\n",
              "dtype: bool"
            ]
          },
          "metadata": {},
          "execution_count": 10
        }
      ],
      "source": [
        "mbti_df.isnull().any()"
      ]
    },
    {
      "cell_type": "markdown",
      "metadata": {
        "id": "gaVCXqBU9oLT"
      },
      "source": [
        "There does not exists any null values in any of the rows in the dataset."
      ]
    },
    {
      "cell_type": "code",
      "execution_count": null,
      "metadata": {
        "colab": {
          "base_uri": "https://localhost:8080/"
        },
        "id": "JkF6RJ9H7nVY",
        "outputId": "d3714f88-d13c-4035-f161-f251b5ac6cfe"
      },
      "outputs": [
        {
          "output_type": "execute_result",
          "data": {
            "text/plain": [
              "array(['ENFJ', 'ENFP', 'ENTJ', 'ENTP', 'ESFJ', 'ESFP', 'ESTJ', 'ESTP',\n",
              "       'INFJ', 'INFP', 'INTJ', 'INTP', 'ISFJ', 'ISFP', 'ISTJ', 'ISTP'],\n",
              "      dtype=object)"
            ]
          },
          "metadata": {},
          "execution_count": 11
        }
      ],
      "source": [
        "#Finding unique personality types\n",
        "personality = np.unique(np.array(mbti_df['type']))\n",
        "personality"
      ]
    },
    {
      "cell_type": "code",
      "execution_count": null,
      "metadata": {
        "colab": {
          "base_uri": "https://localhost:8080/",
          "height": 582
        },
        "id": "s09xbLmv-vOT",
        "outputId": "a093de2d-4d56-45b0-b9e9-f39ee9ef8cd3"
      },
      "outputs": [
        {
          "output_type": "execute_result",
          "data": {
            "text/html": [
              "<div>\n",
              "<style scoped>\n",
              "    .dataframe tbody tr th:only-of-type {\n",
              "        vertical-align: middle;\n",
              "    }\n",
              "\n",
              "    .dataframe tbody tr th {\n",
              "        vertical-align: top;\n",
              "    }\n",
              "\n",
              "    .dataframe thead th {\n",
              "        text-align: right;\n",
              "    }\n",
              "</style>\n",
              "<table border=\"1\" class=\"dataframe\">\n",
              "  <thead>\n",
              "    <tr style=\"text-align: right;\">\n",
              "      <th></th>\n",
              "      <th>posts</th>\n",
              "    </tr>\n",
              "    <tr>\n",
              "      <th>type</th>\n",
              "      <th></th>\n",
              "    </tr>\n",
              "  </thead>\n",
              "  <tbody>\n",
              "    <tr>\n",
              "      <th>ENFJ</th>\n",
              "      <td>190</td>\n",
              "    </tr>\n",
              "    <tr>\n",
              "      <th>ENFP</th>\n",
              "      <td>675</td>\n",
              "    </tr>\n",
              "    <tr>\n",
              "      <th>ENTJ</th>\n",
              "      <td>231</td>\n",
              "    </tr>\n",
              "    <tr>\n",
              "      <th>ENTP</th>\n",
              "      <td>685</td>\n",
              "    </tr>\n",
              "    <tr>\n",
              "      <th>ESFJ</th>\n",
              "      <td>42</td>\n",
              "    </tr>\n",
              "    <tr>\n",
              "      <th>ESFP</th>\n",
              "      <td>48</td>\n",
              "    </tr>\n",
              "    <tr>\n",
              "      <th>ESTJ</th>\n",
              "      <td>39</td>\n",
              "    </tr>\n",
              "    <tr>\n",
              "      <th>ESTP</th>\n",
              "      <td>89</td>\n",
              "    </tr>\n",
              "    <tr>\n",
              "      <th>INFJ</th>\n",
              "      <td>1470</td>\n",
              "    </tr>\n",
              "    <tr>\n",
              "      <th>INFP</th>\n",
              "      <td>1832</td>\n",
              "    </tr>\n",
              "    <tr>\n",
              "      <th>INTJ</th>\n",
              "      <td>1091</td>\n",
              "    </tr>\n",
              "    <tr>\n",
              "      <th>INTP</th>\n",
              "      <td>1304</td>\n",
              "    </tr>\n",
              "    <tr>\n",
              "      <th>ISFJ</th>\n",
              "      <td>166</td>\n",
              "    </tr>\n",
              "    <tr>\n",
              "      <th>ISFP</th>\n",
              "      <td>271</td>\n",
              "    </tr>\n",
              "    <tr>\n",
              "      <th>ISTJ</th>\n",
              "      <td>205</td>\n",
              "    </tr>\n",
              "    <tr>\n",
              "      <th>ISTP</th>\n",
              "      <td>337</td>\n",
              "    </tr>\n",
              "  </tbody>\n",
              "</table>\n",
              "</div>"
            ],
            "text/plain": [
              "      posts\n",
              "type       \n",
              "ENFJ    190\n",
              "ENFP    675\n",
              "ENTJ    231\n",
              "ENTP    685\n",
              "ESFJ     42\n",
              "ESFP     48\n",
              "ESTJ     39\n",
              "ESTP     89\n",
              "INFJ   1470\n",
              "INFP   1832\n",
              "INTJ   1091\n",
              "INTP   1304\n",
              "ISFJ    166\n",
              "ISFP    271\n",
              "ISTJ    205\n",
              "ISTP    337"
            ]
          },
          "metadata": {},
          "execution_count": 12
        }
      ],
      "source": [
        "#Now counting posts for each personality types\n",
        "personality_count = mbti_df.groupby(['type']).count()\n",
        "personality_count"
      ]
    },
    {
      "cell_type": "markdown",
      "metadata": {
        "id": "J9PGuopY_PzX"
      },
      "source": [
        "As can be seen above, **INFP** is the most frequently occuring personality type and **ESTJ** is the least frequently occuring type.\n",
        "\n",
        "**From this we can infer that people having type *INFP* are more expressive in their feelings on social media even being introvert and *ESTJ* are less expressive even being extrovert**"
      ]
    },
    {
      "cell_type": "code",
      "execution_count": null,
      "metadata": {
        "colab": {
          "base_uri": "https://localhost:8080/",
          "height": 630
        },
        "id": "WTS4QFFH_FsV",
        "outputId": "8203f382-e52a-4b3b-d73c-91d9ce674a61"
      },
      "outputs": [
        {
          "output_type": "display_data",
          "data": {
            "image/png": "[encoded data removed]",
            "text/plain": [
              "<Figure size 1296x720 with 1 Axes>"
            ]
          },
          "metadata": {
            "needs_background": "light"
          }
        }
      ],
      "source": [
        "#Plot to show above inference\n",
        "plt.figure(figsize=(18,10))\n",
        "sns.countplot(x='type', data=mbti_df, order=mbti_df.type.value_counts().index, orient='v')\n",
        "sns.set_context('talk')\n",
        "plt.title('Personality types distribution', fontsize=25)\n",
        "plt.savefig('mbti_count.png')\n",
        "plt.show()"
      ]
    },
    {
      "cell_type": "code",
      "execution_count": null,
      "metadata": {
        "colab": {
          "base_uri": "https://localhost:8080/",
          "height": 638
        },
        "id": "JETbIuZ42K2q",
        "outputId": "5c72783c-425e-40ca-f9b7-c84980a85b0f"
      },
      "outputs": [
        {
          "output_type": "display_data",
          "data": {
            "image/png": "[encoded data removed]",
            "text/plain": [
              "<Figure size 720x720 with 1 Axes>"
            ]
          },
          "metadata": {}
        }
      ],
      "source": [
        "plt.figure(figsize=(10, 10))\n",
        "plt.pie(mbti_df.type.value_counts(),labels=mbti_df['type'].unique(), autopct='%1.0f%%', pctdistance=1.1, labeldistance=1.2,shadow=True)\n",
        "plt.axis('equal')\n",
        "plt.show()"
      ]
    },
    {
      "cell_type": "markdown",
      "metadata": {
        "id": "-ldkCHlAEm_E"
      },
      "source": [
        "As can be seen from the above pie plot that there exists variation in the dataset among personality types as **INFJ** among the highest covering 21% of the whole dataset. "
      ]
    },
    {
      "cell_type": "code",
      "execution_count": null,
      "metadata": {
        "id": "GV6SoUHUAeM0"
      },
      "outputs": [],
      "source": [
        "#Finding the most common words in all posts.\n",
        "token = list(mbti_df[\"posts\"].apply(lambda x: x.split()))\n",
        "words = []\n",
        "for x in token:\n",
        "  for y in x:\n",
        "    words.append(y.lower())"
      ]
    },
    {
      "cell_type": "markdown",
      "metadata": {
        "id": "6nb0sEVDV3Rd"
      },
      "source": [
        "In this, we have split the posts in the form of word lists and then convert all the words to lower case so that we can differentiate among words like 'The', 'the' ,'THe', 'THE' etc"
      ]
    },
    {
      "cell_type": "code",
      "execution_count": null,
      "metadata": {
        "colab": {
          "base_uri": "https://localhost:8080/"
        },
        "id": "5hQbLXNPpxa8",
        "outputId": "ed1e8e6e-16b7-44bc-b99f-bc8cf20c4b83"
      },
      "outputs": [
        {
          "output_type": "execute_result",
          "data": {
            "text/plain": [
              "10637645"
            ]
          },
          "metadata": {},
          "execution_count": 16
        }
      ],
      "source": [
        "len(words)"
      ]
    },
    {
      "cell_type": "markdown",
      "metadata": {
        "id": "qN-QsyeaWeJz"
      },
      "source": [
        "Here, We have  in total of **10637645** words "
      ]
    },
    {
      "cell_type": "code",
      "execution_count": null,
      "metadata": {
        "colab": {
          "base_uri": "https://localhost:8080/"
        },
        "id": "mD-xUnPCOfzp",
        "outputId": "c5a47cc1-11d3-4542-e528-3c5ac1fd4877"
      },
      "outputs": [
        {
          "output_type": "execute_result",
          "data": {
            "text/plain": [
              "[('i', 413264),\n",
              " ('to', 292828),\n",
              " ('the', 291403),\n",
              " ('a', 236147),\n",
              " ('and', 231306),\n",
              " ('of', 179142),\n",
              " ('you', 141051),\n",
              " ('that', 132347),\n",
              " ('is', 131382),\n",
              " ('in', 122883),\n",
              " ('my', 115436),\n",
              " ('it', 107963),\n",
              " ('but', 88792),\n",
              " ('for', 87566),\n",
              " ('have', 81062),\n",
              " ('with', 78310),\n",
              " ('be', 69920),\n",
              " ('are', 66820),\n",
              " ('not', 64033),\n",
              " ('like', 63392),\n",
              " (\"i'm\", 60107),\n",
              " ('an', 59939),\n",
              " ('this', 59556),\n",
              " ('on', 58501),\n",
              " ('as', 57556),\n",
              " ('was', 56578),\n",
              " ('me', 56247),\n",
              " ('just', 51854),\n",
              " ('if', 49754),\n",
              " ('so', 49638),\n",
              " ('or', 48203),\n",
              " (\"don't\", 46842),\n",
              " ('about', 46661),\n",
              " ('think', 46585),\n",
              " ('what', 45138),\n",
              " ('do', 44388),\n",
              " ('your', 43368),\n",
              " ('when', 39982),\n",
              " ('at', 39560),\n",
              " (\"it's\", 38823),\n",
              " ('can', 38514),\n",
              " ('people', 37633),\n",
              " ('they', 34027),\n",
              " ('all', 33521),\n",
              " ('would', 33377),\n",
              " ('really', 31982),\n",
              " ('more', 31848),\n",
              " ('know', 31375),\n",
              " ('get', 29450),\n",
              " ('we', 29363)]"
            ]
          },
          "metadata": {},
          "execution_count": 17
        }
      ],
      "source": [
        "\n",
        "Counter(words).most_common(50)"
      ]
    },
    {
      "cell_type": "markdown",
      "metadata": {
        "id": "tkD_bxh-YBDU"
      },
      "source": [
        "It can be easily observed from the above analysis that most frequent words are stop words in english such as 'a' , 'I', 'the' etc from which we can not get any information. Hence we should remove these words."
      ]
    },
    {
      "cell_type": "code",
      "execution_count": null,
      "metadata": {
        "colab": {
          "base_uri": "https://localhost:8080/",
          "height": 423
        },
        "id": "Ar5TWfq5p-mC",
        "outputId": "ee513a13-0635-4e1b-c1ae-a3b473d97851"
      },
      "outputs": [
        {
          "output_type": "execute_result",
          "data": {
            "text/html": [
              "<div>\n",
              "<style scoped>\n",
              "    .dataframe tbody tr th:only-of-type {\n",
              "        vertical-align: middle;\n",
              "    }\n",
              "\n",
              "    .dataframe tbody tr th {\n",
              "        vertical-align: top;\n",
              "    }\n",
              "\n",
              "    .dataframe thead th {\n",
              "        text-align: right;\n",
              "    }\n",
              "</style>\n",
              "<table border=\"1\" class=\"dataframe\">\n",
              "  <thead>\n",
              "    <tr style=\"text-align: right;\">\n",
              "      <th></th>\n",
              "      <th>type</th>\n",
              "      <th>posts</th>\n",
              "    </tr>\n",
              "  </thead>\n",
              "  <tbody>\n",
              "    <tr>\n",
              "      <th>0</th>\n",
              "      <td>INFJ</td>\n",
              "      <td>'http://www.youtube.com/watch?v=qsXHcwe3krw|||...</td>\n",
              "    </tr>\n",
              "    <tr>\n",
              "      <th>1</th>\n",
              "      <td>ENTP</td>\n",
              "      <td>'I'm finding the lack of me in these posts ver...</td>\n",
              "    </tr>\n",
              "    <tr>\n",
              "      <th>2</th>\n",
              "      <td>INTP</td>\n",
              "      <td>'Good one  _____   https://www.youtube.com/wat...</td>\n",
              "    </tr>\n",
              "    <tr>\n",
              "      <th>3</th>\n",
              "      <td>INTJ</td>\n",
              "      <td>'Dear INTP,   I enjoyed our conversation the o...</td>\n",
              "    </tr>\n",
              "    <tr>\n",
              "      <th>4</th>\n",
              "      <td>ENTJ</td>\n",
              "      <td>'You're fired.|||That's another silly misconce...</td>\n",
              "    </tr>\n",
              "    <tr>\n",
              "      <th>...</th>\n",
              "      <td>...</td>\n",
              "      <td>...</td>\n",
              "    </tr>\n",
              "    <tr>\n",
              "      <th>8670</th>\n",
              "      <td>ISFP</td>\n",
              "      <td>'https://www.youtube.com/watch?v=t8edHB_h908||...</td>\n",
              "    </tr>\n",
              "    <tr>\n",
              "      <th>8671</th>\n",
              "      <td>ENFP</td>\n",
              "      <td>'So...if this thread already exists someplace ...</td>\n",
              "    </tr>\n",
              "    <tr>\n",
              "      <th>8672</th>\n",
              "      <td>INTP</td>\n",
              "      <td>'So many questions when i do these things.  I ...</td>\n",
              "    </tr>\n",
              "    <tr>\n",
              "      <th>8673</th>\n",
              "      <td>INFP</td>\n",
              "      <td>'I am very conflicted right now when it comes ...</td>\n",
              "    </tr>\n",
              "    <tr>\n",
              "      <th>8674</th>\n",
              "      <td>INFP</td>\n",
              "      <td>'It has been too long since I have been on per...</td>\n",
              "    </tr>\n",
              "  </tbody>\n",
              "</table>\n",
              "<p>8675 rows × 2 columns</p>\n",
              "</div>"
            ],
            "text/plain": [
              "      type                                              posts\n",
              "0     INFJ  'http://www.youtube.com/watch?v=qsXHcwe3krw|||...\n",
              "1     ENTP  'I'm finding the lack of me in these posts ver...\n",
              "2     INTP  'Good one  _____   https://www.youtube.com/wat...\n",
              "3     INTJ  'Dear INTP,   I enjoyed our conversation the o...\n",
              "4     ENTJ  'You're fired.|||That's another silly misconce...\n",
              "...    ...                                                ...\n",
              "8670  ISFP  'https://www.youtube.com/watch?v=t8edHB_h908||...\n",
              "8671  ENFP  'So...if this thread already exists someplace ...\n",
              "8672  INTP  'So many questions when i do these things.  I ...\n",
              "8673  INFP  'I am very conflicted right now when it comes ...\n",
              "8674  INFP  'It has been too long since I have been on per...\n",
              "\n",
              "[8675 rows x 2 columns]"
            ]
          },
          "metadata": {},
          "execution_count": 18
        }
      ],
      "source": [
        "mbti_df"
      ]
    },
    {
      "cell_type": "markdown",
      "metadata": {
        "id": "juL1GEyUagob"
      },
      "source": [
        "# Data PreProcessing"
      ]
    },
    {
      "cell_type": "markdown",
      "metadata": {
        "id": "TjWhcjXqFHnc"
      },
      "source": [
        "### 1. Removing URLs"
      ]
    },
    {
      "cell_type": "code",
      "execution_count": null,
      "metadata": {
        "id": "X-CvVFXmomJL"
      },
      "outputs": [],
      "source": [
        "mbti_df['posts'] = mbti_df['posts'].apply(lambda x: re.sub(r'https?:\\/\\/.*?[\\s+]', '', x.replace(\"|\",\" \") + \" \"))"
      ]
    },
    {
      "cell_type": "code",
      "execution_count": null,
      "metadata": {
        "colab": {
          "base_uri": "https://localhost:8080/",
          "height": 206
        },
        "id": "qSJf-2ISo1F7",
        "outputId": "bf4e084c-b7d0-4ede-93b2-836db70989ec"
      },
      "outputs": [
        {
          "output_type": "execute_result",
          "data": {
            "text/html": [
              "<div>\n",
              "<style scoped>\n",
              "    .dataframe tbody tr th:only-of-type {\n",
              "        vertical-align: middle;\n",
              "    }\n",
              "\n",
              "    .dataframe tbody tr th {\n",
              "        vertical-align: top;\n",
              "    }\n",
              "\n",
              "    .dataframe thead th {\n",
              "        text-align: right;\n",
              "    }\n",
              "</style>\n",
              "<table border=\"1\" class=\"dataframe\">\n",
              "  <thead>\n",
              "    <tr style=\"text-align: right;\">\n",
              "      <th></th>\n",
              "      <th>type</th>\n",
              "      <th>posts</th>\n",
              "    </tr>\n",
              "  </thead>\n",
              "  <tbody>\n",
              "    <tr>\n",
              "      <th>0</th>\n",
              "      <td>INFJ</td>\n",
              "      <td>'    enfp and intj moments   sportscenter not ...</td>\n",
              "    </tr>\n",
              "    <tr>\n",
              "      <th>1</th>\n",
              "      <td>ENTP</td>\n",
              "      <td>'I'm finding the lack of me in these posts ver...</td>\n",
              "    </tr>\n",
              "    <tr>\n",
              "      <th>2</th>\n",
              "      <td>INTP</td>\n",
              "      <td>'Good one  _____     Of course, to which I say...</td>\n",
              "    </tr>\n",
              "    <tr>\n",
              "      <th>3</th>\n",
              "      <td>INTJ</td>\n",
              "      <td>'Dear INTP,   I enjoyed our conversation the o...</td>\n",
              "    </tr>\n",
              "    <tr>\n",
              "      <th>4</th>\n",
              "      <td>ENTJ</td>\n",
              "      <td>'You're fired.   That's another silly misconce...</td>\n",
              "    </tr>\n",
              "  </tbody>\n",
              "</table>\n",
              "</div>"
            ],
            "text/plain": [
              "   type                                              posts\n",
              "0  INFJ  '    enfp and intj moments   sportscenter not ...\n",
              "1  ENTP  'I'm finding the lack of me in these posts ver...\n",
              "2  INTP  'Good one  _____     Of course, to which I say...\n",
              "3  INTJ  'Dear INTP,   I enjoyed our conversation the o...\n",
              "4  ENTJ  'You're fired.   That's another silly misconce..."
            ]
          },
          "metadata": {},
          "execution_count": 20
        }
      ],
      "source": [
        "mbti_df.head()"
      ]
    },
    {
      "cell_type": "markdown",
      "metadata": {
        "id": "C3bdrF9IFNkp"
      },
      "source": [
        "### 2. Removing End Tokens like '?', ',' '.'"
      ]
    },
    {
      "cell_type": "code",
      "execution_count": null,
      "metadata": {
        "id": "pl-O2y64q63W"
      },
      "outputs": [],
      "source": [
        "mbti_df[\"posts\"] = mbti_df[\"posts\"].apply(lambda x: re.sub(r'\\.', ' EOSTokenDot ', x + \" \"))\n",
        "mbti_df[\"posts\"] = mbti_df[\"posts\"].apply(lambda x: re.sub(r'\\?', ' EOSTokenQuest ', x + \" \"))\n",
        "mbti_df[\"posts\"] = mbti_df[\"posts\"].apply(lambda x: re.sub(r'!', ' EOSTokenExs ', x + \" \"))"
      ]
    },
    {
      "cell_type": "code",
      "execution_count": null,
      "metadata": {
        "colab": {
          "base_uri": "https://localhost:8080/",
          "height": 206
        },
        "id": "vKwtsuHMrOv4",
        "outputId": "bc76ab49-f385-4fa1-eda9-89be9fcf229c"
      },
      "outputs": [
        {
          "output_type": "execute_result",
          "data": {
            "text/html": [
              "<div>\n",
              "<style scoped>\n",
              "    .dataframe tbody tr th:only-of-type {\n",
              "        vertical-align: middle;\n",
              "    }\n",
              "\n",
              "    .dataframe tbody tr th {\n",
              "        vertical-align: top;\n",
              "    }\n",
              "\n",
              "    .dataframe thead th {\n",
              "        text-align: right;\n",
              "    }\n",
              "</style>\n",
              "<table border=\"1\" class=\"dataframe\">\n",
              "  <thead>\n",
              "    <tr style=\"text-align: right;\">\n",
              "      <th></th>\n",
              "      <th>type</th>\n",
              "      <th>posts</th>\n",
              "    </tr>\n",
              "  </thead>\n",
              "  <tbody>\n",
              "    <tr>\n",
              "      <th>0</th>\n",
              "      <td>INFJ</td>\n",
              "      <td>'    enfp and intj moments   sportscenter not ...</td>\n",
              "    </tr>\n",
              "    <tr>\n",
              "      <th>1</th>\n",
              "      <td>ENTP</td>\n",
              "      <td>'I'm finding the lack of me in these posts ver...</td>\n",
              "    </tr>\n",
              "    <tr>\n",
              "      <th>2</th>\n",
              "      <td>INTP</td>\n",
              "      <td>'Good one  _____     Of course, to which I say...</td>\n",
              "    </tr>\n",
              "    <tr>\n",
              "      <th>3</th>\n",
              "      <td>INTJ</td>\n",
              "      <td>'Dear INTP,   I enjoyed our conversation the o...</td>\n",
              "    </tr>\n",
              "    <tr>\n",
              "      <th>4</th>\n",
              "      <td>ENTJ</td>\n",
              "      <td>'You're fired EOSTokenDot    That's another si...</td>\n",
              "    </tr>\n",
              "  </tbody>\n",
              "</table>\n",
              "</div>"
            ],
            "text/plain": [
              "   type                                              posts\n",
              "0  INFJ  '    enfp and intj moments   sportscenter not ...\n",
              "1  ENTP  'I'm finding the lack of me in these posts ver...\n",
              "2  INTP  'Good one  _____     Of course, to which I say...\n",
              "3  INTJ  'Dear INTP,   I enjoyed our conversation the o...\n",
              "4  ENTJ  'You're fired EOSTokenDot    That's another si..."
            ]
          },
          "metadata": {},
          "execution_count": 22
        }
      ],
      "source": [
        "mbti_df.head()"
      ]
    },
    {
      "cell_type": "markdown",
      "metadata": {
        "id": "xpp4BC-0fzRT"
      },
      "source": [
        "### 3. Remove words that contain digits"
      ]
    },
    {
      "cell_type": "code",
      "execution_count": null,
      "metadata": {
        "id": "XbQfUiIJfidj"
      },
      "outputs": [],
      "source": [
        "mbti_df['posts'] = mbti_df['posts'].apply(lambda x: re.sub(r'[^a-zA-Z\\s]','',x))"
      ]
    },
    {
      "cell_type": "code",
      "execution_count": null,
      "metadata": {
        "colab": {
          "base_uri": "https://localhost:8080/",
          "height": 206
        },
        "id": "-aQChyr4m3Et",
        "outputId": "eb613e09-8f39-44ab-f4ab-7de8c65bf362"
      },
      "outputs": [
        {
          "output_type": "execute_result",
          "data": {
            "text/html": [
              "<div>\n",
              "<style scoped>\n",
              "    .dataframe tbody tr th:only-of-type {\n",
              "        vertical-align: middle;\n",
              "    }\n",
              "\n",
              "    .dataframe tbody tr th {\n",
              "        vertical-align: top;\n",
              "    }\n",
              "\n",
              "    .dataframe thead th {\n",
              "        text-align: right;\n",
              "    }\n",
              "</style>\n",
              "<table border=\"1\" class=\"dataframe\">\n",
              "  <thead>\n",
              "    <tr style=\"text-align: right;\">\n",
              "      <th></th>\n",
              "      <th>type</th>\n",
              "      <th>posts</th>\n",
              "    </tr>\n",
              "  </thead>\n",
              "  <tbody>\n",
              "    <tr>\n",
              "      <th>0</th>\n",
              "      <td>INFJ</td>\n",
              "      <td>enfp and intj moments   sportscenter not t...</td>\n",
              "    </tr>\n",
              "    <tr>\n",
              "      <th>1</th>\n",
              "      <td>ENTP</td>\n",
              "      <td>Im finding the lack of me in these posts very ...</td>\n",
              "    </tr>\n",
              "    <tr>\n",
              "      <th>2</th>\n",
              "      <td>INTP</td>\n",
              "      <td>Good one       Of course to which I say I know...</td>\n",
              "    </tr>\n",
              "    <tr>\n",
              "      <th>3</th>\n",
              "      <td>INTJ</td>\n",
              "      <td>Dear INTP   I enjoyed our conversation the oth...</td>\n",
              "    </tr>\n",
              "    <tr>\n",
              "      <th>4</th>\n",
              "      <td>ENTJ</td>\n",
              "      <td>Youre fired EOSTokenDot    Thats another silly...</td>\n",
              "    </tr>\n",
              "  </tbody>\n",
              "</table>\n",
              "</div>"
            ],
            "text/plain": [
              "   type                                              posts\n",
              "0  INFJ      enfp and intj moments   sportscenter not t...\n",
              "1  ENTP  Im finding the lack of me in these posts very ...\n",
              "2  INTP  Good one       Of course to which I say I know...\n",
              "3  INTJ  Dear INTP   I enjoyed our conversation the oth...\n",
              "4  ENTJ  Youre fired EOSTokenDot    Thats another silly..."
            ]
          },
          "metadata": {},
          "execution_count": 24
        }
      ],
      "source": [
        "mbti_df.head()"
      ]
    },
    {
      "cell_type": "markdown",
      "metadata": {
        "id": "HRVp-ky2GMCB"
      },
      "source": [
        "### 4. Lower casing words"
      ]
    },
    {
      "cell_type": "code",
      "execution_count": null,
      "metadata": {
        "id": "GXjoChJIrHCM"
      },
      "outputs": [],
      "source": [
        "mbti_df['posts'] = mbti_df['posts'].apply(lambda x: x.lower())"
      ]
    },
    {
      "cell_type": "code",
      "execution_count": null,
      "metadata": {
        "colab": {
          "base_uri": "https://localhost:8080/",
          "height": 206
        },
        "id": "SR9YOcxIrMg6",
        "outputId": "f1fabeff-5d24-43c4-9989-e9f2c43362d7"
      },
      "outputs": [
        {
          "output_type": "execute_result",
          "data": {
            "text/html": [
              "<div>\n",
              "<style scoped>\n",
              "    .dataframe tbody tr th:only-of-type {\n",
              "        vertical-align: middle;\n",
              "    }\n",
              "\n",
              "    .dataframe tbody tr th {\n",
              "        vertical-align: top;\n",
              "    }\n",
              "\n",
              "    .dataframe thead th {\n",
              "        text-align: right;\n",
              "    }\n",
              "</style>\n",
              "<table border=\"1\" class=\"dataframe\">\n",
              "  <thead>\n",
              "    <tr style=\"text-align: right;\">\n",
              "      <th></th>\n",
              "      <th>type</th>\n",
              "      <th>posts</th>\n",
              "    </tr>\n",
              "  </thead>\n",
              "  <tbody>\n",
              "    <tr>\n",
              "      <th>0</th>\n",
              "      <td>INFJ</td>\n",
              "      <td>enfp and intj moments   sportscenter not t...</td>\n",
              "    </tr>\n",
              "    <tr>\n",
              "      <th>1</th>\n",
              "      <td>ENTP</td>\n",
              "      <td>im finding the lack of me in these posts very ...</td>\n",
              "    </tr>\n",
              "    <tr>\n",
              "      <th>2</th>\n",
              "      <td>INTP</td>\n",
              "      <td>good one       of course to which i say i know...</td>\n",
              "    </tr>\n",
              "    <tr>\n",
              "      <th>3</th>\n",
              "      <td>INTJ</td>\n",
              "      <td>dear intp   i enjoyed our conversation the oth...</td>\n",
              "    </tr>\n",
              "    <tr>\n",
              "      <th>4</th>\n",
              "      <td>ENTJ</td>\n",
              "      <td>youre fired eostokendot    thats another silly...</td>\n",
              "    </tr>\n",
              "  </tbody>\n",
              "</table>\n",
              "</div>"
            ],
            "text/plain": [
              "   type                                              posts\n",
              "0  INFJ      enfp and intj moments   sportscenter not t...\n",
              "1  ENTP  im finding the lack of me in these posts very ...\n",
              "2  INTP  good one       of course to which i say i know...\n",
              "3  INTJ  dear intp   i enjoyed our conversation the oth...\n",
              "4  ENTJ  youre fired eostokendot    thats another silly..."
            ]
          },
          "metadata": {},
          "execution_count": 26
        }
      ],
      "source": [
        "mbti_df.head()"
      ]
    },
    {
      "cell_type": "markdown",
      "metadata": {
        "id": "5P3OggbnGfvZ"
      },
      "source": [
        "### 5. Removing multiple letters repeating words"
      ]
    },
    {
      "cell_type": "code",
      "execution_count": null,
      "metadata": {
        "id": "u_fVpHGjsRoD"
      },
      "outputs": [],
      "source": [
        "mbti_df[\"posts\"] = mbti_df[\"posts\"].apply(lambda x: re.sub(r'([a-z])\\1{2,}[\\s|\\w]*','',x))"
      ]
    },
    {
      "cell_type": "code",
      "execution_count": null,
      "metadata": {
        "colab": {
          "base_uri": "https://localhost:8080/",
          "height": 206
        },
        "id": "qEmG-UvZsWEF",
        "outputId": "ab8638ee-f33a-465b-b92d-70399eb26b7e"
      },
      "outputs": [
        {
          "output_type": "execute_result",
          "data": {
            "text/html": [
              "<div>\n",
              "<style scoped>\n",
              "    .dataframe tbody tr th:only-of-type {\n",
              "        vertical-align: middle;\n",
              "    }\n",
              "\n",
              "    .dataframe tbody tr th {\n",
              "        vertical-align: top;\n",
              "    }\n",
              "\n",
              "    .dataframe thead th {\n",
              "        text-align: right;\n",
              "    }\n",
              "</style>\n",
              "<table border=\"1\" class=\"dataframe\">\n",
              "  <thead>\n",
              "    <tr style=\"text-align: right;\">\n",
              "      <th></th>\n",
              "      <th>type</th>\n",
              "      <th>posts</th>\n",
              "    </tr>\n",
              "  </thead>\n",
              "  <tbody>\n",
              "    <tr>\n",
              "      <th>0</th>\n",
              "      <td>INFJ</td>\n",
              "      <td>enfp and intj moments   sportscenter not t...</td>\n",
              "    </tr>\n",
              "    <tr>\n",
              "      <th>1</th>\n",
              "      <td>ENTP</td>\n",
              "      <td>im finding the lack of me in these posts very ...</td>\n",
              "    </tr>\n",
              "    <tr>\n",
              "      <th>2</th>\n",
              "      <td>INTP</td>\n",
              "      <td>good one       of course to which i say i know...</td>\n",
              "    </tr>\n",
              "    <tr>\n",
              "      <th>3</th>\n",
              "      <td>INTJ</td>\n",
              "      <td>dear intp   i enjoyed our conversation the oth...</td>\n",
              "    </tr>\n",
              "    <tr>\n",
              "      <th>4</th>\n",
              "      <td>ENTJ</td>\n",
              "      <td>youre fired eostokendot    thats another silly...</td>\n",
              "    </tr>\n",
              "  </tbody>\n",
              "</table>\n",
              "</div>"
            ],
            "text/plain": [
              "   type                                              posts\n",
              "0  INFJ      enfp and intj moments   sportscenter not t...\n",
              "1  ENTP  im finding the lack of me in these posts very ...\n",
              "2  INTP  good one       of course to which i say i know...\n",
              "3  INTJ  dear intp   i enjoyed our conversation the oth...\n",
              "4  ENTJ  youre fired eostokendot    thats another silly..."
            ]
          },
          "metadata": {},
          "execution_count": 28
        }
      ],
      "source": [
        "mbti_df.head()"
      ]
    },
    {
      "cell_type": "markdown",
      "metadata": {
        "id": "FmJOM_aAHIG9"
      },
      "source": [
        "### 6. Removing Parenthesis"
      ]
    },
    {
      "cell_type": "code",
      "execution_count": null,
      "metadata": {
        "id": "VpwWaCdou5n9"
      },
      "outputs": [],
      "source": [
        "#Remove parenthesis\n",
        "mbti_df[\"posts\"] = mbti_df[\"posts\"].apply(lambda x: re.sub('(\\[|\\()*\\d+(\\]|\\))*', ' ', x))\n"
      ]
    },
    {
      "cell_type": "markdown",
      "metadata": {
        "id": "dfedp68XHNqW"
      },
      "source": [
        "### 7. Removing more than 1 spacing"
      ]
    },
    {
      "cell_type": "code",
      "execution_count": null,
      "metadata": {
        "id": "y-iMwn3rvfgj"
      },
      "outputs": [],
      "source": [
        "#Remove spaces more than 1\n",
        "mbti_df[\"posts\"] = mbti_df[\"posts\"].apply(lambda x: re.sub(' +', ' ', x).lower())\n"
      ]
    },
    {
      "cell_type": "markdown",
      "metadata": {
        "id": "5UKrzAnjqZUz"
      },
      "source": [
        "### 8. Lemmatization"
      ]
    },
    {
      "cell_type": "code",
      "execution_count": null,
      "metadata": {
        "colab": {
          "base_uri": "https://localhost:8080/"
        },
        "id": "Lx7Q87mmqQ88",
        "outputId": "cce03a4e-7b82-4e4c-a37f-9b5a89c93576"
      },
      "outputs": [
        {
          "output_type": "stream",
          "name": "stdout",
          "text": [
            "[nltk_data] Downloading package wordnet to /root/nltk_data...\n",
            "[nltk_data]   Unzipping corpora/wordnet.zip.\n"
          ]
        },
        {
          "output_type": "execute_result",
          "data": {
            "text/plain": [
              "True"
            ]
          },
          "metadata": {},
          "execution_count": 31
        }
      ],
      "source": [
        "nltk.download('wordnet')"
      ]
    },
    {
      "cell_type": "code",
      "execution_count": null,
      "metadata": {
        "id": "DNM21b27p1uM"
      },
      "outputs": [],
      "source": [
        "mbti_df['posts'] = mbti_df['posts'].apply(lambda x: WordNetLemmatizer().lemmatize(x))"
      ]
    },
    {
      "cell_type": "markdown",
      "metadata": {
        "id": "Ix8aitnTHiLO"
      },
      "source": [
        "This removes inflected words like 'develop' , 'developing' , 'developed' into single word 'develop'\n",
        "\n",
        "---\n",
        "\n"
      ]
    },
    {
      "cell_type": "markdown",
      "metadata": {
        "id": "x6i97oVorWa6"
      },
      "source": [
        "### 9. Removal of Stop Words"
      ]
    },
    {
      "cell_type": "code",
      "execution_count": null,
      "metadata": {
        "colab": {
          "base_uri": "https://localhost:8080/"
        },
        "id": "msmGEWkbqGP-",
        "outputId": "7867e521-88a5-49f1-cf8a-c93648b7ebab"
      },
      "outputs": [
        {
          "output_type": "stream",
          "name": "stdout",
          "text": [
            "[nltk_data] Downloading package stopwords to /root/nltk_data...\n",
            "[nltk_data]   Unzipping corpora/stopwords.zip.\n"
          ]
        },
        {
          "output_type": "execute_result",
          "data": {
            "text/plain": [
              "True"
            ]
          },
          "metadata": {},
          "execution_count": 33
        }
      ],
      "source": [
        "nltk.download('stopwords')"
      ]
    },
    {
      "cell_type": "code",
      "execution_count": null,
      "metadata": {
        "colab": {
          "base_uri": "https://localhost:8080/"
        },
        "id": "tIGCGgQmqX5L",
        "outputId": "cd2e8df7-cd93-4fff-ef59-2640cb748e7a"
      },
      "outputs": [
        {
          "output_type": "stream",
          "name": "stdout",
          "text": [
            "['i', 'me', 'my', 'myself', 'we', 'our', 'ours', 'ourselves', 'you', \"you're\", \"you've\", \"you'll\", \"you'd\", 'your', 'yours', 'yourself', 'yourselves', 'he', 'him', 'his', 'himself', 'she', \"she's\", 'her', 'hers', 'herself', 'it', \"it's\", 'its', 'itself', 'they', 'them', 'their', 'theirs', 'themselves', 'what', 'which', 'who', 'whom', 'this', 'that', \"that'll\", 'these', 'those', 'am', 'is', 'are', 'was', 'were', 'be', 'been', 'being', 'have', 'has', 'had', 'having', 'do', 'does', 'did', 'doing', 'a', 'an', 'the', 'and', 'but', 'if', 'or', 'because', 'as', 'until', 'while', 'of', 'at', 'by', 'for', 'with', 'about', 'against', 'between', 'into', 'through', 'during', 'before', 'after', 'above', 'below', 'to', 'from', 'up', 'down', 'in', 'out', 'on', 'off', 'over', 'under', 'again', 'further', 'then', 'once', 'here', 'there', 'when', 'where', 'why', 'how', 'all', 'any', 'both', 'each', 'few', 'more', 'most', 'other', 'some', 'such', 'no', 'nor', 'not', 'only', 'own', 'same', 'so', 'than', 'too', 'very', 's', 't', 'can', 'will', 'just', 'don', \"don't\", 'should', \"should've\", 'now', 'd', 'll', 'm', 'o', 're', 've', 'y', 'ain', 'aren', \"aren't\", 'couldn', \"couldn't\", 'didn', \"didn't\", 'doesn', \"doesn't\", 'hadn', \"hadn't\", 'hasn', \"hasn't\", 'haven', \"haven't\", 'isn', \"isn't\", 'ma', 'mightn', \"mightn't\", 'mustn', \"mustn't\", 'needn', \"needn't\", 'shan', \"shan't\", 'shouldn', \"shouldn't\", 'wasn', \"wasn't\", 'weren', \"weren't\", 'won', \"won't\", 'wouldn', \"wouldn't\"]\n"
          ]
        }
      ],
      "source": [
        "print((stopwords.words('english')))"
      ]
    },
    {
      "cell_type": "code",
      "execution_count": null,
      "metadata": {
        "id": "1EwfA4bJ82BI"
      },
      "outputs": [],
      "source": [
        "from sklearn import preprocessing\n",
        "label_encoder = preprocessing.LabelEncoder()\n",
        "Y= label_encoder.fit_transform(mbti_df['type'])"
      ]
    },
    {
      "cell_type": "markdown",
      "metadata": {
        "id": "spi4BsdzICzh"
      },
      "source": [
        "### Splitting the dataset into 70-30 % ratio"
      ]
    },
    {
      "cell_type": "code",
      "execution_count": null,
      "metadata": {
        "colab": {
          "base_uri": "https://localhost:8080/"
        },
        "id": "8NFnv5TejSsN",
        "outputId": "622e40e2-ce3c-45bc-e1d7-c76528175686"
      },
      "outputs": [
        {
          "output_type": "stream",
          "name": "stdout",
          "text": [
            "(5812,) (5812,) (2863,) (2863,)\n"
          ]
        }
      ],
      "source": [
        "X_train, X_test, y_train, y_test = train_test_split(mbti_df['posts'], Y, test_size=0.33, stratify=Y, random_state=42)\n",
        "print ((X_train.shape),(y_train.shape),(X_test.shape),(y_test.shape))"
      ]
    },
    {
      "cell_type": "markdown",
      "metadata": {
        "id": "gDzixWphqd4M"
      },
      "source": [
        "### 10. Implementing Bag of Words"
      ]
    },
    {
      "cell_type": "code",
      "execution_count": null,
      "metadata": {
        "id": "VB-jW8Jw73I6"
      },
      "outputs": [],
      "source": [
        "# Vectorizing the posts along with filtering Stop-words\n",
        "vect = CountVectorizer(stop_words='english') "
      ]
    },
    {
      "cell_type": "code",
      "execution_count": null,
      "metadata": {
        "id": "Kj_aoTHtqodr"
      },
      "outputs": [],
      "source": [
        "# Perform fitting on training data and then transforming it\n",
        "mbti_bow =  vect.fit(X_train)\n",
        "X_train_bow =  mbti_bow.transform(X_train)"
      ]
    },
    {
      "cell_type": "code",
      "execution_count": null,
      "metadata": {
        "colab": {
          "base_uri": "https://localhost:8080/"
        },
        "id": "sGZJVKdy8E6X",
        "outputId": "3667bce6-075a-4f57-9cf2-5e0a71af92b5"
      },
      "outputs": [
        {
          "output_type": "execute_result",
          "data": {
            "text/plain": [
              "(5812, 81787)"
            ]
          },
          "metadata": {},
          "execution_count": 37
        }
      ],
      "source": [
        "X_train_bow.shape"
      ]
    },
    {
      "cell_type": "code",
      "execution_count": null,
      "metadata": {
        "id": "Gz6Piko8q0GM"
      },
      "outputs": [],
      "source": [
        "#Transforming test dataset \n",
        "X_test_bow =  mbti_bow.transform(X_test)"
      ]
    },
    {
      "cell_type": "code",
      "execution_count": null,
      "metadata": {
        "colab": {
          "base_uri": "https://localhost:8080/"
        },
        "id": "1Jdd7k9F-KTc",
        "outputId": "f5ff039d-57f7-4f51-cabe-e4bb245740b3"
      },
      "outputs": [
        {
          "output_type": "execute_result",
          "data": {
            "text/plain": [
              "(2863, 81787)"
            ]
          },
          "metadata": {},
          "execution_count": 39
        }
      ],
      "source": [
        "X_test_bow.shape"
      ]
    },
    {
      "cell_type": "markdown",
      "metadata": {
        "id": "9HHSRTP-IpwW"
      },
      "source": [
        "### 11. Implementing TF-IDF"
      ]
    },
    {
      "cell_type": "code",
      "execution_count": null,
      "metadata": {
        "id": "Xh_WrMGdr9PY"
      },
      "outputs": [],
      "source": [
        "from sklearn.feature_extraction.text import TfidfVectorizer"
      ]
    },
    {
      "cell_type": "code",
      "execution_count": null,
      "metadata": {
        "id": "hSWcWWsDsSya"
      },
      "outputs": [],
      "source": [
        "#Vectorizing posts along with filtering stop words\n",
        "vectorizer = TfidfVectorizer(stop_words='english')\n"
      ]
    },
    {
      "cell_type": "code",
      "execution_count": null,
      "metadata": {
        "id": "W203YSCnucO1"
      },
      "outputs": [],
      "source": [
        "#Fitting on training dataset\n",
        "mbti_tfidf = vectorizer.fit(X_train)"
      ]
    },
    {
      "cell_type": "code",
      "execution_count": null,
      "metadata": {
        "id": "P8GFSl0A92Np"
      },
      "outputs": [],
      "source": [
        "#Performing transformation on train and test set\n",
        "X_train_tfidf = mbti_tfidf.transform(X_train)\n",
        "X_test_tfidf = mbti_tfidf.transform(X_test)"
      ]
    },
    {
      "cell_type": "code",
      "execution_count": null,
      "metadata": {
        "colab": {
          "base_uri": "https://localhost:8080/"
        },
        "id": "5kQPGsUW-ROV",
        "outputId": "1d0b06af-82e8-436c-cb46-9a387be23ffe"
      },
      "outputs": [
        {
          "output_type": "execute_result",
          "data": {
            "text/plain": [
              "(5812, 81787)"
            ]
          },
          "metadata": {},
          "execution_count": 44
        }
      ],
      "source": [
        "X_train_tfidf.shape"
      ]
    },
    {
      "cell_type": "code",
      "execution_count": null,
      "metadata": {
        "colab": {
          "base_uri": "https://localhost:8080/"
        },
        "id": "P1rZqMyX-V4O",
        "outputId": "ad684bba-3932-44e3-c2fa-8c44522fd5f7"
      },
      "outputs": [
        {
          "output_type": "execute_result",
          "data": {
            "text/plain": [
              "(2863, 81787)"
            ]
          },
          "metadata": {},
          "execution_count": 45
        }
      ],
      "source": [
        "X_test_tfidf.shape"
      ]
    },
    {
      "cell_type": "markdown",
      "metadata": {
        "id": "0v_Fq7vxJRLl"
      },
      "source": [
        "#**Implementing Models**"
      ]
    },
    {
      "cell_type": "markdown",
      "source": [
        "## Baseline Models"
      ],
      "metadata": {
        "id": "tWl4n73V11Cd"
      }
    },
    {
      "cell_type": "markdown",
      "source": [
        "### Now we will try to implement baseline models on old BoW technique and new TF-IDF technique and compare them the results"
      ],
      "metadata": {
        "id": "sN8vabkcNHbH"
      }
    },
    {
      "cell_type": "markdown",
      "metadata": {
        "id": "UztSMwNULmOj"
      },
      "source": [
        "### 1. SVM"
      ]
    },
    {
      "cell_type": "code",
      "execution_count": null,
      "metadata": {
        "id": "HxHAsCdoKDa_"
      },
      "outputs": [],
      "source": [
        "basef1_bow = {}\n",
        "basef1_tfidf = {}"
      ]
    },
    {
      "cell_type": "code",
      "execution_count": null,
      "metadata": {
        "colab": {
          "base_uri": "https://localhost:8080/"
        },
        "id": "J7pcS43GLtD4",
        "outputId": "728e0964-7f59-479c-ba59-8852ec5e7f03"
      },
      "outputs": [
        {
          "output_type": "stream",
          "name": "stdout",
          "text": [
            "              precision    recall  f1-score   support\n",
            "\n",
            "           0       0.00      0.00      0.00        63\n",
            "           1       0.50      0.01      0.02       223\n",
            "           2       0.00      0.00      0.00        76\n",
            "           3       1.00      0.01      0.02       226\n",
            "           4       0.00      0.00      0.00        14\n",
            "           5       0.00      0.00      0.00        16\n",
            "           6       0.00      0.00      0.00        13\n",
            "           7       0.00      0.00      0.00        29\n",
            "           8       0.57      0.32      0.41       485\n",
            "           9       0.29      0.94      0.44       605\n",
            "          10       0.75      0.21      0.33       360\n",
            "          11       0.43      0.52      0.47       430\n",
            "          12       0.00      0.00      0.00        55\n",
            "          13       0.00      0.00      0.00        89\n",
            "          14       0.00      0.00      0.00        68\n",
            "          15       0.00      0.00      0.00       111\n",
            "\n",
            "    accuracy                           0.36      2863\n",
            "   macro avg       0.22      0.13      0.11      2863\n",
            "weighted avg       0.43      0.36      0.28      2863\n",
            "\n"
          ]
        }
      ],
      "source": [
        "#SVC for BOW\n",
        "from sklearn.svm import SVC\n",
        "svm = SVC(random_state = 1)\n",
        "svm.fit(X_train_bow, y_train)\n",
        "\n",
        "Y_pred = svm.predict(X_test_bow)\n",
        "\n",
        "# find predictions\n",
        "print(classification_report(y_test,Y_pred))\n",
        "score = f1_score(y_test, Y_pred, average='micro')\n",
        "basef1_bow['SVM'] = score* 100.0\n"
      ]
    },
    {
      "cell_type": "code",
      "execution_count": null,
      "metadata": {
        "colab": {
          "base_uri": "https://localhost:8080/"
        },
        "id": "q0pkl04SMBTt",
        "outputId": "380f2a8c-89a8-41cb-f12a-e5febf10915f"
      },
      "outputs": [
        {
          "output_type": "stream",
          "name": "stdout",
          "text": [
            "              precision    recall  f1-score   support\n",
            "\n",
            "           0       0.00      0.00      0.00        63\n",
            "           1       0.63      0.24      0.35       223\n",
            "           2       1.00      0.01      0.03        76\n",
            "           3       0.60      0.28      0.38       226\n",
            "           4       0.00      0.00      0.00        14\n",
            "           5       0.00      0.00      0.00        16\n",
            "           6       0.00      0.00      0.00        13\n",
            "           7       0.00      0.00      0.00        29\n",
            "           8       0.60      0.55      0.57       485\n",
            "           9       0.41      0.89      0.56       605\n",
            "          10       0.65      0.50      0.56       360\n",
            "          11       0.53      0.74      0.62       430\n",
            "          12       0.50      0.02      0.04        55\n",
            "          13       0.50      0.02      0.04        89\n",
            "          14       0.50      0.01      0.03        68\n",
            "          15       0.77      0.18      0.29       111\n",
            "\n",
            "    accuracy                           0.50      2863\n",
            "   macro avg       0.42      0.22      0.22      2863\n",
            "weighted avg       0.54      0.50      0.45      2863\n",
            "\n"
          ]
        }
      ],
      "source": [
        "#SVC for Tf-IDF\n",
        "from sklearn.svm import SVC\n",
        "svm = SVC(random_state = 1)\n",
        "svm.fit(X_train_tfidf, y_train)\n",
        "\n",
        "Y_pred = svm.predict(X_test_tfidf)\n",
        "\n",
        "# find predictions\n",
        "print(classification_report(y_test,Y_pred))\n",
        "score = f1_score(y_test, Y_pred, average='micro')\n",
        "basef1_tfidf['SVM'] = score* 100.0\n"
      ]
    },
    {
      "cell_type": "code",
      "execution_count": null,
      "metadata": {
        "colab": {
          "base_uri": "https://localhost:8080/"
        },
        "id": "ZOTtK-rD-fSA",
        "outputId": "33581c3b-c2e3-45fc-8f6c-d4e300f137cf"
      },
      "outputs": [
        {
          "output_type": "stream",
          "name": "stdout",
          "text": [
            "              precision    recall  f1-score   support\n",
            "\n",
            "           0       0.00      0.00      0.00        63\n",
            "           1       0.53      0.09      0.16       223\n",
            "           2       0.00      0.00      0.00        76\n",
            "           3       0.65      0.16      0.26       226\n",
            "           4       0.00      0.00      0.00        14\n",
            "           5       0.00      0.00      0.00        16\n",
            "           6       0.00      0.00      0.00        13\n",
            "           7       0.00      0.00      0.00        29\n",
            "           8       0.41      0.49      0.44       485\n",
            "           9       0.34      0.88      0.49       605\n",
            "          10       0.54      0.29      0.38       360\n",
            "          11       0.53      0.55      0.54       430\n",
            "          12       0.00      0.00      0.00        55\n",
            "          13       0.00      0.00      0.00        89\n",
            "          14       0.00      0.00      0.00        68\n",
            "          15       0.00      0.00      0.00       111\n",
            "\n",
            "    accuracy                           0.41      2863\n",
            "   macro avg       0.19      0.15      0.14      2863\n",
            "weighted avg       0.38      0.41      0.34      2863\n",
            "\n"
          ]
        }
      ],
      "source": [
        "\n",
        "#Random Forest for BOW\n",
        "random_forest = RandomForestClassifier(n_estimators=100, random_state = 1)\n",
        "random_forest.fit(X_train_bow, y_train)\n",
        "\n",
        "# make predictions for test data\n",
        "Y_pred = random_forest.predict(X_test_bow)\n",
        "\n",
        "# evaluate predictions\n",
        "print(classification_report(y_test,Y_pred))\n",
        "score = f1_score(y_test, Y_pred, average='micro')\n",
        "basef1_bow['Random Forest'] = score* 100.0\n"
      ]
    },
    {
      "cell_type": "markdown",
      "metadata": {
        "id": "XrH5cl-uKXSw"
      },
      "source": [
        "### 2. Random Forest"
      ]
    },
    {
      "cell_type": "code",
      "execution_count": null,
      "metadata": {
        "colab": {
          "base_uri": "https://localhost:8080/"
        },
        "id": "VJX1ptZrAK5_",
        "outputId": "46da251d-441d-472e-d6f5-f19d0b05c951"
      },
      "outputs": [
        {
          "output_type": "stream",
          "name": "stdout",
          "text": [
            "              precision    recall  f1-score   support\n",
            "\n",
            "           0       0.00      0.00      0.00        63\n",
            "           1       0.53      0.08      0.14       223\n",
            "           2       0.00      0.00      0.00        76\n",
            "           3       0.53      0.07      0.12       226\n",
            "           4       0.00      0.00      0.00        14\n",
            "           5       0.00      0.00      0.00        16\n",
            "           6       0.00      0.00      0.00        13\n",
            "           7       0.00      0.00      0.00        29\n",
            "           8       0.42      0.52      0.47       485\n",
            "           9       0.33      0.86      0.48       605\n",
            "          10       0.55      0.30      0.39       360\n",
            "          11       0.53      0.55      0.54       430\n",
            "          12       0.00      0.00      0.00        55\n",
            "          13       0.00      0.00      0.00        89\n",
            "          14       0.00      0.00      0.00        68\n",
            "          15       0.00      0.00      0.00       111\n",
            "\n",
            "    accuracy                           0.40      2863\n",
            "   macro avg       0.18      0.15      0.13      2863\n",
            "weighted avg       0.37      0.40      0.33      2863\n",
            "\n"
          ]
        }
      ],
      "source": [
        "\n",
        "#Random Forest for TF-IDF\n",
        "random_forest = RandomForestClassifier(n_estimators=100, random_state = 1)\n",
        "random_forest.fit(X_train_tfidf, y_train)\n",
        "\n",
        "# make predictions for test data\n",
        "Y_pred = random_forest.predict(X_test_tfidf)\n",
        "\n",
        "# evaluate predictions\n",
        "print(classification_report(y_test,Y_pred))\n",
        "score = f1_score(y_test, Y_pred, average='micro')\n",
        "basef1_tfidf['Random Forest'] = score* 100.0\n"
      ]
    },
    {
      "cell_type": "markdown",
      "source": [
        "# Analysis of Baseline Models"
      ],
      "metadata": {
        "id": "5p4XIa5cNdEH"
      }
    },
    {
      "cell_type": "code",
      "source": [
        "pd.DataFrame.from_dict(basef1_bow, orient='index', columns=['F1-Score Baseline(%)'])"
      ],
      "metadata": {
        "colab": {
          "base_uri": "https://localhost:8080/",
          "height": 112
        },
        "id": "SGhC7wZY4yad",
        "outputId": "b8f51f55-c43d-41b4-c294-f5d43cd48978"
      },
      "execution_count": null,
      "outputs": [
        {
          "output_type": "execute_result",
          "data": {
            "text/html": [
              "<div>\n",
              "<style scoped>\n",
              "    .dataframe tbody tr th:only-of-type {\n",
              "        vertical-align: middle;\n",
              "    }\n",
              "\n",
              "    .dataframe tbody tr th {\n",
              "        vertical-align: top;\n",
              "    }\n",
              "\n",
              "    .dataframe thead th {\n",
              "        text-align: right;\n",
              "    }\n",
              "</style>\n",
              "<table border=\"1\" class=\"dataframe\">\n",
              "  <thead>\n",
              "    <tr style=\"text-align: right;\">\n",
              "      <th></th>\n",
              "      <th>F1-Score Baseline(%)</th>\n",
              "    </tr>\n",
              "  </thead>\n",
              "  <tbody>\n",
              "    <tr>\n",
              "      <th>SVM</th>\n",
              "      <td>35.731750</td>\n",
              "    </tr>\n",
              "    <tr>\n",
              "      <th>Random Forest</th>\n",
              "      <td>40.691582</td>\n",
              "    </tr>\n",
              "  </tbody>\n",
              "</table>\n",
              "</div>"
            ],
            "text/plain": [
              "               F1-Score Baseline(%)\n",
              "SVM                       35.731750\n",
              "Random Forest             40.691582"
            ]
          },
          "metadata": {},
          "execution_count": 56
        }
      ]
    },
    {
      "cell_type": "code",
      "source": [
        "pd.DataFrame.from_dict(basef1_tfidf, orient='index', columns=['F1-Score Achieved(TF-TDF)'])"
      ],
      "metadata": {
        "colab": {
          "base_uri": "https://localhost:8080/",
          "height": 112
        },
        "id": "TaBJlXyw9kQL",
        "outputId": "2a62fb78-6909-4880-a15a-ec0ff37a50be"
      },
      "execution_count": null,
      "outputs": [
        {
          "output_type": "execute_result",
          "data": {
            "text/html": [
              "<div>\n",
              "<style scoped>\n",
              "    .dataframe tbody tr th:only-of-type {\n",
              "        vertical-align: middle;\n",
              "    }\n",
              "\n",
              "    .dataframe tbody tr th {\n",
              "        vertical-align: top;\n",
              "    }\n",
              "\n",
              "    .dataframe thead th {\n",
              "        text-align: right;\n",
              "    }\n",
              "</style>\n",
              "<table border=\"1\" class=\"dataframe\">\n",
              "  <thead>\n",
              "    <tr style=\"text-align: right;\">\n",
              "      <th></th>\n",
              "      <th>F1-Score Achieved(TF-TDF)</th>\n",
              "    </tr>\n",
              "  </thead>\n",
              "  <tbody>\n",
              "    <tr>\n",
              "      <th>SVM</th>\n",
              "      <td>50.471533</td>\n",
              "    </tr>\n",
              "    <tr>\n",
              "      <th>Random Forest</th>\n",
              "      <td>40.202585</td>\n",
              "    </tr>\n",
              "  </tbody>\n",
              "</table>\n",
              "</div>"
            ],
            "text/plain": [
              "               F1-Score Achieved(TF-TDF)\n",
              "SVM                            50.471533\n",
              "Random Forest                  40.202585"
            ]
          },
          "metadata": {},
          "execution_count": 58
        }
      ]
    },
    {
      "cell_type": "code",
      "source": [
        "#Plot for comparision between baseline models\n",
        "X = ['SVM', 'Random Forest']\n",
        "basef1_bow_list = list(basef1_bow.values())\n",
        "basef1_tfidf_list =  list(basef1_tfidf.values())\n",
        "f1_bows = basef1_bow_list\n",
        "f1_tfidfs = basef1_tfidf_list\n",
        "  \n",
        "X_axis = np.arange(len(X))\n",
        "plt.figure(figsize=(10,8))   \n",
        "plt.bar(X_axis - 0.2, f1_bows, 0.4, label = 'BoW',color = 'yellow',edgecolor = 'black')\n",
        "plt.bar(X_axis + 0.2, f1_tfidfs, 0.4, label = 'TFIDF',color = 'purple',edgecolor = 'black')\n",
        "  \n",
        "plt.xticks(X_axis, X)\n",
        "plt.xlabel(\"Models\")\n",
        "plt.ylabel(\"F1 Score\")\n",
        "plt.title(\"Comparision of Baseline Models\")\n",
        "plt.legend()\n",
        "\n",
        "plt.show()"
      ],
      "metadata": {
        "colab": {
          "base_uri": "https://localhost:8080/",
          "height": 538
        },
        "id": "5B_BPf1C6wEc",
        "outputId": "add1c580-5588-4a2f-f688-cb85d77ab4a6"
      },
      "execution_count": null,
      "outputs": [
        {
          "output_type": "display_data",
          "data": {
            "image/png": "[encoded data removed]",
            "text/plain": [
              "<Figure size 720x576 with 1 Axes>"
            ]
          },
          "metadata": {
            "needs_background": "light"
          }
        }
      ]
    },
    {
      "cell_type": "markdown",
      "source": [
        "### We have compared above Baseline models i.e SVM and Random Forest by capturing their F1-Scores using Bag of Words Techniques and TF-IDF Techniques represented by yellow and purple color respectively. As can be seen there is a huge improvement in case of SVM while comparable scores for random forest."
      ],
      "metadata": {
        "id": "kJFJLYaBJW1f"
      }
    },
    {
      "cell_type": "markdown",
      "source": [
        "## Other ML Models"
      ],
      "metadata": {
        "id": "1gKzDtsp2F21"
      }
    },
    {
      "cell_type": "markdown",
      "source": [
        "### Now we will try to implement new models on the above techniques and do analysis on them"
      ],
      "metadata": {
        "id": "5OCy-rosNmzA"
      }
    },
    {
      "cell_type": "code",
      "source": [
        "Newf1_bow = {}\n",
        "Newf1_tfidf = {}"
      ],
      "metadata": {
        "id": "D-iu08jo8M_k"
      },
      "execution_count": null,
      "outputs": []
    },
    {
      "cell_type": "markdown",
      "metadata": {
        "id": "KAmUCHedJfSo"
      },
      "source": [
        "### 1. XG-Boost Classifier"
      ]
    },
    {
      "cell_type": "code",
      "execution_count": null,
      "metadata": {
        "colab": {
          "base_uri": "https://localhost:8080/"
        },
        "id": "Gv8x2ytcitnB",
        "outputId": "24ca13a2-acd6-48e9-d445-eb0744716545"
      },
      "outputs": [
        {
          "output_type": "stream",
          "name": "stdout",
          "text": [
            "              precision    recall  f1-score   support\n",
            "\n",
            "           0       0.52      0.21      0.30        63\n",
            "           1       0.61      0.43      0.50       223\n",
            "           2       0.54      0.33      0.41        76\n",
            "           3       0.55      0.47      0.50       226\n",
            "           4       0.25      0.07      0.11        14\n",
            "           5       0.00      0.00      0.00        16\n",
            "           6       1.00      0.15      0.27        13\n",
            "           7       0.64      0.24      0.35        29\n",
            "           8       0.64      0.62      0.63       485\n",
            "           9       0.49      0.78      0.60       605\n",
            "          10       0.63      0.59      0.61       360\n",
            "          11       0.65      0.69      0.67       430\n",
            "          12       0.64      0.33      0.43        55\n",
            "          13       0.57      0.30      0.40        89\n",
            "          14       0.67      0.43      0.52        68\n",
            "          15       0.70      0.58      0.63       111\n",
            "\n",
            "    accuracy                           0.58      2863\n",
            "   macro avg       0.57      0.39      0.43      2863\n",
            "weighted avg       0.59      0.58      0.57      2863\n",
            "\n"
          ]
        }
      ],
      "source": [
        "#XG boost Classifier for BOW Model\n",
        "xgb = XGBClassifier()\n",
        "xgb.fit(X_train_bow,y_train)\n",
        "\n",
        "Y_pred = xgb.predict(X_test_bow)\n",
        "\n",
        "\n",
        "# evaluate predictions\n",
        "print(classification_report(y_test,Y_pred))\n",
        "score = f1_score(y_test, Y_pred, average='micro')\n",
        "Newf1_bow['XG Boost'] = score* 100.0\n"
      ]
    },
    {
      "cell_type": "code",
      "execution_count": null,
      "metadata": {
        "colab": {
          "base_uri": "https://localhost:8080/"
        },
        "id": "mIKRNfD_kBBx",
        "outputId": "fd8943f5-0ea1-46f7-e044-3ec9c554b068"
      },
      "outputs": [
        {
          "output_type": "stream",
          "name": "stdout",
          "text": [
            "              precision    recall  f1-score   support\n",
            "\n",
            "           0       0.54      0.24      0.33        63\n",
            "           1       0.57      0.43      0.49       223\n",
            "           2       0.63      0.32      0.42        76\n",
            "           3       0.55      0.47      0.51       226\n",
            "           4       0.50      0.14      0.22        14\n",
            "           5       0.00      0.00      0.00        16\n",
            "           6       0.00      0.00      0.00        13\n",
            "           7       0.45      0.17      0.25        29\n",
            "           8       0.63      0.61      0.62       485\n",
            "           9       0.50      0.78      0.61       605\n",
            "          10       0.61      0.59      0.60       360\n",
            "          11       0.65      0.68      0.66       430\n",
            "          12       0.66      0.38      0.48        55\n",
            "          13       0.62      0.34      0.44        89\n",
            "          14       0.57      0.37      0.45        68\n",
            "          15       0.68      0.54      0.60       111\n",
            "\n",
            "    accuracy                           0.58      2863\n",
            "   macro avg       0.51      0.38      0.42      2863\n",
            "weighted avg       0.58      0.58      0.57      2863\n",
            "\n"
          ]
        }
      ],
      "source": [
        "#XG boost Classifier for TF-IDF\n",
        "xgb = XGBClassifier()\n",
        "xgb.fit(X_train_tfidf,y_train)\n",
        "\n",
        "Y_pred = xgb.predict(X_test_tfidf)\n",
        "\n",
        "\n",
        "# evaluate predictions\n",
        "print(classification_report(y_test,Y_pred))\n",
        "score = f1_score(y_test, Y_pred, average='micro')\n",
        "Newf1_tfidf['XG Boost'] = score* 100.0\n"
      ]
    },
    {
      "cell_type": "markdown",
      "metadata": {
        "id": "BA9fJoIbLHda"
      },
      "source": [
        "### 2. CatBoost Classifier"
      ]
    },
    {
      "cell_type": "code",
      "execution_count": null,
      "metadata": {
        "colab": {
          "base_uri": "https://localhost:8080/"
        },
        "id": "qk7dcVrxRMHW",
        "outputId": "cc7d3b94-5095-4e19-e3b2-b3c914485bcb"
      },
      "outputs": [
        {
          "output_type": "stream",
          "name": "stdout",
          "text": [
            "Collecting catboost\n",
            "  Downloading catboost-1.0.3-cp37-none-manylinux1_x86_64.whl (76.3 MB)\n",
            "\u001b[K     |████████████████████████████████| 76.3 MB 1.2 MB/s \n",
            "\u001b[?25hRequirement already satisfied: pandas>=0.24.0 in /usr/local/lib/python3.7/dist-packages (from catboost) (1.1.5)\n",
            "Requirement already satisfied: scipy in /usr/local/lib/python3.7/dist-packages (from catboost) (1.4.1)\n",
            "Requirement already satisfied: matplotlib in /usr/local/lib/python3.7/dist-packages (from catboost) (3.2.2)\n",
            "Requirement already satisfied: numpy>=1.16.0 in /usr/local/lib/python3.7/dist-packages (from catboost) (1.19.5)\n",
            "Requirement already satisfied: plotly in /usr/local/lib/python3.7/dist-packages (from catboost) (4.4.1)\n",
            "Requirement already satisfied: graphviz in /usr/local/lib/python3.7/dist-packages (from catboost) (0.10.1)\n",
            "Requirement already satisfied: six in /usr/local/lib/python3.7/dist-packages (from catboost) (1.15.0)\n",
            "Requirement already satisfied: pytz>=2017.2 in /usr/local/lib/python3.7/dist-packages (from pandas>=0.24.0->catboost) (2018.9)\n",
            "Requirement already satisfied: python-dateutil>=2.7.3 in /usr/local/lib/python3.7/dist-packages (from pandas>=0.24.0->catboost) (2.8.2)\n",
            "Requirement already satisfied: pyparsing!=2.0.4,!=2.1.2,!=2.1.6,>=2.0.1 in /usr/local/lib/python3.7/dist-packages (from matplotlib->catboost) (3.0.6)\n",
            "Requirement already satisfied: kiwisolver>=1.0.1 in /usr/local/lib/python3.7/dist-packages (from matplotlib->catboost) (1.3.2)\n",
            "Requirement already satisfied: cycler>=0.10 in /usr/local/lib/python3.7/dist-packages (from matplotlib->catboost) (0.11.0)\n",
            "Requirement already satisfied: retrying>=1.3.3 in /usr/local/lib/python3.7/dist-packages (from plotly->catboost) (1.3.3)\n",
            "Installing collected packages: catboost\n",
            "Successfully installed catboost-1.0.3\n"
          ]
        }
      ],
      "source": [
        "pip install catboost"
      ]
    },
    {
      "cell_type": "code",
      "execution_count": null,
      "metadata": {
        "colab": {
          "base_uri": "https://localhost:8080/"
        },
        "id": "56rg3FAfIEQa",
        "outputId": "166e62aa-9c75-4476-a919-295c43e5c416"
      },
      "outputs": [
        {
          "output_type": "stream",
          "name": "stdout",
          "text": [
            "Learning rate set to 0.5\n",
            "0:\tlearn: 2.2468091\ttotal: 5.47s\tremaining: 4m 28s\n",
            "1:\tlearn: 2.0086316\ttotal: 11s\tremaining: 4m 22s\n",
            "2:\tlearn: 1.9065735\ttotal: 15.3s\tremaining: 4m\n",
            "3:\tlearn: 1.8411378\ttotal: 19.8s\tremaining: 3m 48s\n",
            "4:\tlearn: 1.7646971\ttotal: 24.3s\tremaining: 3m 38s\n",
            "5:\tlearn: 1.7199275\ttotal: 28.8s\tremaining: 3m 31s\n",
            "6:\tlearn: 1.6563070\ttotal: 33.3s\tremaining: 3m 24s\n",
            "7:\tlearn: 1.6293240\ttotal: 37.7s\tremaining: 3m 17s\n",
            "8:\tlearn: 1.6158091\ttotal: 42s\tremaining: 3m 11s\n",
            "9:\tlearn: 1.5929751\ttotal: 46.5s\tremaining: 3m 5s\n",
            "10:\tlearn: 1.5841710\ttotal: 51.1s\tremaining: 3m 1s\n",
            "11:\tlearn: 1.5697990\ttotal: 55.7s\tremaining: 2m 56s\n",
            "12:\tlearn: 1.5496557\ttotal: 1m\tremaining: 2m 51s\n",
            "13:\tlearn: 1.5277135\ttotal: 1m 4s\tremaining: 2m 46s\n",
            "14:\tlearn: 1.5043157\ttotal: 1m 9s\tremaining: 2m 41s\n",
            "15:\tlearn: 1.5024639\ttotal: 1m 13s\tremaining: 2m 36s\n",
            "16:\tlearn: 1.4656779\ttotal: 1m 18s\tremaining: 2m 31s\n",
            "17:\tlearn: 1.4429899\ttotal: 1m 22s\tremaining: 2m 27s\n",
            "18:\tlearn: 1.4296146\ttotal: 1m 27s\tremaining: 2m 22s\n",
            "19:\tlearn: 1.4010853\ttotal: 1m 31s\tremaining: 2m 17s\n",
            "20:\tlearn: 1.3963664\ttotal: 1m 36s\tremaining: 2m 13s\n",
            "21:\tlearn: 1.3643792\ttotal: 1m 40s\tremaining: 2m 8s\n",
            "22:\tlearn: 1.3544628\ttotal: 1m 45s\tremaining: 2m 3s\n",
            "23:\tlearn: 1.3541934\ttotal: 1m 49s\tremaining: 1m 59s\n",
            "24:\tlearn: 1.3363994\ttotal: 1m 54s\tremaining: 1m 54s\n",
            "25:\tlearn: 1.3247888\ttotal: 1m 58s\tremaining: 1m 49s\n",
            "26:\tlearn: 1.3241256\ttotal: 2m 3s\tremaining: 1m 45s\n",
            "27:\tlearn: 1.3223987\ttotal: 2m 8s\tremaining: 1m 40s\n",
            "28:\tlearn: 1.3191221\ttotal: 2m 12s\tremaining: 1m 35s\n",
            "29:\tlearn: 1.3182629\ttotal: 2m 17s\tremaining: 1m 31s\n",
            "30:\tlearn: 1.3178974\ttotal: 2m 21s\tremaining: 1m 26s\n",
            "31:\tlearn: 1.3162221\ttotal: 2m 26s\tremaining: 1m 22s\n",
            "32:\tlearn: 1.3133870\ttotal: 2m 30s\tremaining: 1m 17s\n",
            "33:\tlearn: 1.3075434\ttotal: 2m 35s\tremaining: 1m 13s\n",
            "34:\tlearn: 1.3022749\ttotal: 2m 39s\tremaining: 1m 8s\n",
            "35:\tlearn: 1.2947523\ttotal: 2m 44s\tremaining: 1m 3s\n",
            "36:\tlearn: 1.2943019\ttotal: 2m 48s\tremaining: 59.3s\n",
            "37:\tlearn: 1.2925203\ttotal: 2m 53s\tremaining: 54.8s\n",
            "38:\tlearn: 1.2918262\ttotal: 2m 58s\tremaining: 50.2s\n",
            "39:\tlearn: 1.2913273\ttotal: 3m 2s\tremaining: 45.7s\n",
            "40:\tlearn: 1.2906967\ttotal: 3m 7s\tremaining: 41.1s\n",
            "41:\tlearn: 1.2853023\ttotal: 3m 11s\tremaining: 36.5s\n",
            "42:\tlearn: 1.2712888\ttotal: 3m 16s\tremaining: 32s\n",
            "43:\tlearn: 1.2658704\ttotal: 3m 20s\tremaining: 27.4s\n",
            "44:\tlearn: 1.2636096\ttotal: 3m 25s\tremaining: 22.8s\n",
            "45:\tlearn: 1.2628212\ttotal: 3m 30s\tremaining: 18.3s\n",
            "46:\tlearn: 1.2623261\ttotal: 3m 34s\tremaining: 13.7s\n",
            "47:\tlearn: 1.2616693\ttotal: 3m 39s\tremaining: 9.14s\n",
            "48:\tlearn: 1.2610292\ttotal: 3m 43s\tremaining: 4.57s\n",
            "49:\tlearn: 1.2605200\ttotal: 3m 48s\tremaining: 0us\n",
            "              precision    recall  f1-score   support\n",
            "\n",
            "           0       0.60      0.19      0.29        63\n",
            "           1       0.57      0.39      0.46       223\n",
            "           2       0.51      0.25      0.34        76\n",
            "           3       0.50      0.41      0.45       226\n",
            "           4       0.00      0.00      0.00        14\n",
            "           5       0.00      0.00      0.00        16\n",
            "           6       0.00      0.00      0.00        13\n",
            "           7       0.40      0.07      0.12        29\n",
            "           8       0.60      0.58      0.59       485\n",
            "           9       0.45      0.75      0.56       605\n",
            "          10       0.59      0.60      0.59       360\n",
            "          11       0.64      0.65      0.65       430\n",
            "          12       0.57      0.29      0.39        55\n",
            "          13       0.66      0.28      0.39        89\n",
            "          14       0.56      0.32      0.41        68\n",
            "          15       0.72      0.55      0.62       111\n",
            "\n",
            "    accuracy                           0.55      2863\n",
            "   macro avg       0.46      0.33      0.37      2863\n",
            "weighted avg       0.56      0.55      0.53      2863\n",
            "\n"
          ]
        }
      ],
      "source": [
        "from catboost import CatBoostClassifier\n",
        "model = CatBoostClassifier(iterations=50)\n",
        "\n",
        "# fit the model with the training data\n",
        "model.fit(X_train_bow,y_train,plot=False)\n",
        "\n",
        "\n",
        "# predict the target on the train dataset\n",
        "Y_pred = model.predict(X_test_bow)\n",
        "# evaluate predictions\n",
        "print(classification_report(y_test,Y_pred))\n",
        "score = f1_score(y_test, Y_pred, average='micro')\n",
        "Newf1_bow['Cat Boost'] = score* 100.0\n"
      ]
    },
    {
      "cell_type": "code",
      "execution_count": null,
      "metadata": {
        "colab": {
          "base_uri": "https://localhost:8080/"
        },
        "id": "J4BM6UtaEfdk",
        "outputId": "6c6bf030-b7c7-42d0-b414-382946dc2e66"
      },
      "outputs": [
        {
          "output_type": "stream",
          "name": "stdout",
          "text": [
            "Learning rate set to 0.5\n",
            "0:\tlearn: 2.1732671\ttotal: 14.7s\tremaining: 11m 59s\n",
            "1:\tlearn: 1.9841604\ttotal: 28.7s\tremaining: 11m 28s\n",
            "2:\tlearn: 1.8843371\ttotal: 43.7s\tremaining: 11m 25s\n",
            "3:\tlearn: 1.8256175\ttotal: 58.5s\tremaining: 11m 13s\n",
            "4:\tlearn: 1.7753834\ttotal: 1m 13s\tremaining: 11m 2s\n",
            "5:\tlearn: 1.7290858\ttotal: 1m 27s\tremaining: 10m 43s\n",
            "6:\tlearn: 1.6620279\ttotal: 1m 42s\tremaining: 10m 28s\n",
            "7:\tlearn: 1.6311165\ttotal: 1m 57s\tremaining: 10m 17s\n",
            "8:\tlearn: 1.5851710\ttotal: 2m 12s\tremaining: 10m 5s\n",
            "9:\tlearn: 1.5660390\ttotal: 2m 27s\tremaining: 9m 48s\n",
            "10:\tlearn: 1.5424166\ttotal: 2m 41s\tremaining: 9m 32s\n",
            "11:\tlearn: 1.5331353\ttotal: 2m 55s\tremaining: 9m 16s\n",
            "12:\tlearn: 1.5265316\ttotal: 3m 10s\tremaining: 9m 3s\n",
            "13:\tlearn: 1.5115529\ttotal: 3m 25s\tremaining: 8m 48s\n",
            "14:\tlearn: 1.4995529\ttotal: 3m 39s\tremaining: 8m 32s\n",
            "15:\tlearn: 1.4937098\ttotal: 3m 54s\tremaining: 8m 18s\n",
            "16:\tlearn: 1.4811806\ttotal: 4m 9s\tremaining: 8m 4s\n",
            "17:\tlearn: 1.4718463\ttotal: 4m 24s\tremaining: 7m 50s\n",
            "18:\tlearn: 1.4330185\ttotal: 4m 38s\tremaining: 7m 35s\n",
            "19:\tlearn: 1.4282135\ttotal: 4m 53s\tremaining: 7m 19s\n",
            "20:\tlearn: 1.4079615\ttotal: 5m 8s\tremaining: 7m 5s\n",
            "21:\tlearn: 1.3893532\ttotal: 5m 23s\tremaining: 6m 51s\n",
            "22:\tlearn: 1.3802782\ttotal: 5m 38s\tremaining: 6m 37s\n",
            "23:\tlearn: 1.3679284\ttotal: 5m 53s\tremaining: 6m 22s\n",
            "24:\tlearn: 1.3595344\ttotal: 6m 8s\tremaining: 6m 8s\n",
            "25:\tlearn: 1.3418566\ttotal: 6m 23s\tremaining: 5m 53s\n",
            "26:\tlearn: 1.3336827\ttotal: 6m 39s\tremaining: 5m 39s\n",
            "27:\tlearn: 1.3309136\ttotal: 6m 54s\tremaining: 5m 25s\n",
            "28:\tlearn: 1.3244095\ttotal: 7m 8s\tremaining: 5m 10s\n",
            "29:\tlearn: 1.3223123\ttotal: 7m 23s\tremaining: 4m 55s\n",
            "30:\tlearn: 1.3062707\ttotal: 7m 39s\tremaining: 4m 41s\n",
            "31:\tlearn: 1.3018518\ttotal: 7m 54s\tremaining: 4m 26s\n",
            "32:\tlearn: 1.3011026\ttotal: 8m 9s\tremaining: 4m 12s\n",
            "33:\tlearn: 1.2960094\ttotal: 8m 25s\tremaining: 3m 57s\n",
            "34:\tlearn: 1.2941214\ttotal: 8m 40s\tremaining: 3m 43s\n",
            "35:\tlearn: 1.2854363\ttotal: 8m 55s\tremaining: 3m 28s\n",
            "36:\tlearn: 1.2846591\ttotal: 9m 10s\tremaining: 3m 13s\n",
            "37:\tlearn: 1.2806749\ttotal: 9m 25s\tremaining: 2m 58s\n",
            "38:\tlearn: 1.2785386\ttotal: 9m 40s\tremaining: 2m 43s\n",
            "39:\tlearn: 1.2763841\ttotal: 9m 55s\tremaining: 2m 28s\n",
            "40:\tlearn: 1.2754391\ttotal: 10m 10s\tremaining: 2m 14s\n",
            "41:\tlearn: 1.2688894\ttotal: 10m 25s\tremaining: 1m 59s\n",
            "42:\tlearn: 1.2683326\ttotal: 10m 39s\tremaining: 1m 44s\n",
            "43:\tlearn: 1.2676502\ttotal: 10m 54s\tremaining: 1m 29s\n",
            "44:\tlearn: 1.2610487\ttotal: 11m 10s\tremaining: 1m 14s\n",
            "45:\tlearn: 1.2591435\ttotal: 11m 25s\tremaining: 59.6s\n",
            "46:\tlearn: 1.2576921\ttotal: 11m 40s\tremaining: 44.7s\n",
            "47:\tlearn: 1.2565621\ttotal: 11m 55s\tremaining: 29.8s\n",
            "48:\tlearn: 1.2550540\ttotal: 12m 10s\tremaining: 14.9s\n",
            "49:\tlearn: 1.2527014\ttotal: 12m 26s\tremaining: 0us\n",
            "              precision    recall  f1-score   support\n",
            "\n",
            "           0       0.32      0.17      0.23        63\n",
            "           1       0.56      0.38      0.45       223\n",
            "           2       0.56      0.29      0.38        76\n",
            "           3       0.53      0.45      0.49       226\n",
            "           4       0.00      0.00      0.00        14\n",
            "           5       0.00      0.00      0.00        16\n",
            "           6       0.00      0.00      0.00        13\n",
            "           7       0.50      0.07      0.12        29\n",
            "           8       0.53      0.57      0.55       485\n",
            "           9       0.49      0.72      0.58       605\n",
            "          10       0.57      0.56      0.56       360\n",
            "          11       0.58      0.63      0.60       430\n",
            "          12       0.58      0.38      0.46        55\n",
            "          13       0.56      0.31      0.40        89\n",
            "          14       0.51      0.31      0.39        68\n",
            "          15       0.70      0.51      0.59       111\n",
            "\n",
            "    accuracy                           0.53      2863\n",
            "   macro avg       0.44      0.33      0.36      2863\n",
            "weighted avg       0.53      0.53      0.52      2863\n",
            "\n"
          ]
        }
      ],
      "source": [
        "#Cat Boost for TF-IDF\n",
        "from catboost import CatBoostClassifier\n",
        "model = CatBoostClassifier(iterations=10,learning_rate=1)\n",
        "\n",
        "# fit the model with the training data\n",
        "model.fit(X_train_tfidf,y_train,plot=False)\n",
        "\n",
        "\n",
        "# predict the target on the train dataset\n",
        "Y_pred = model.predict(X_test_tfidf)\n",
        "# evaluate predictions\n",
        "print(classification_report(y_test,Y_pred))\n",
        "score = f1_score(y_test, Y_pred, average='micro')\n",
        "Newf1_tfidf['Cat Boost'] = score* 100.0\n"
      ]
    },
    {
      "cell_type": "markdown",
      "metadata": {
        "id": "emE0_6n6K7Dj"
      },
      "source": [
        "### 3. KNN Classifier"
      ]
    },
    {
      "cell_type": "code",
      "execution_count": null,
      "metadata": {
        "colab": {
          "base_uri": "https://localhost:8080/"
        },
        "id": "afGLMu5XBmYE",
        "outputId": "c4c63d5c-da26-42c2-a51c-d176b6e3a5b9"
      },
      "outputs": [
        {
          "output_type": "stream",
          "name": "stdout",
          "text": [
            "              precision    recall  f1-score   support\n",
            "\n",
            "           0       0.00      0.00      0.00        63\n",
            "           1       0.00      0.00      0.00       223\n",
            "           2       0.00      0.00      0.00        76\n",
            "           3       0.00      0.00      0.00       226\n",
            "           4       0.00      0.00      0.00        14\n",
            "           5       0.00      0.00      0.00        16\n",
            "           6       0.00      0.00      0.00        13\n",
            "           7       0.00      0.00      0.00        29\n",
            "           8       0.30      0.26      0.28       485\n",
            "           9       0.26      0.83      0.40       605\n",
            "          10       0.47      0.11      0.18       360\n",
            "          11       0.34      0.35      0.35       430\n",
            "          12       0.00      0.00      0.00        55\n",
            "          13       0.00      0.00      0.00        89\n",
            "          14       0.00      0.00      0.00        68\n",
            "          15       0.00      0.00      0.00       111\n",
            "\n",
            "    accuracy                           0.29      2863\n",
            "   macro avg       0.09      0.10      0.08      2863\n",
            "weighted avg       0.22      0.29      0.21      2863\n",
            "\n"
          ]
        }
      ],
      "source": [
        "#KNN\n",
        "#KNN Classifier for BOW\n",
        "from sklearn.neighbors import KNeighborsClassifier\n",
        "knn = KNeighborsClassifier(n_neighbors = 200)  # n_neighbors means k\n",
        "knn.fit(X_train_bow, y_train)\n",
        "\n",
        "Y_pred = knn.predict(X_test_bow)\n",
        "# evaluate predictions\n",
        "print(classification_report(y_test,Y_pred))\n",
        "score = f1_score(y_test, Y_pred, average='micro')\n",
        "Newf1_bow['KNN'] = score* 100.0\n"
      ]
    },
    {
      "cell_type": "code",
      "execution_count": null,
      "metadata": {
        "colab": {
          "base_uri": "https://localhost:8080/"
        },
        "id": "nh174g8YBoYO",
        "outputId": "bf2d99a0-74ea-4b3a-d9d0-19c37884108b"
      },
      "outputs": [
        {
          "output_type": "stream",
          "name": "stdout",
          "text": [
            "              precision    recall  f1-score   support\n",
            "\n",
            "           0       0.00      0.00      0.00        63\n",
            "           1       0.50      0.01      0.02       223\n",
            "           2       0.00      0.00      0.00        76\n",
            "           3       1.00      0.00      0.01       226\n",
            "           4       0.00      0.00      0.00        14\n",
            "           5       0.00      0.00      0.00        16\n",
            "           6       0.00      0.00      0.00        13\n",
            "           7       0.00      0.00      0.00        29\n",
            "           8       0.18      0.91      0.30       485\n",
            "           9       0.36      0.19      0.24       605\n",
            "          10       0.29      0.01      0.01       360\n",
            "          11       0.34      0.03      0.06       430\n",
            "          12       0.00      0.00      0.00        55\n",
            "          13       0.00      0.00      0.00        89\n",
            "          14       0.00      0.00      0.00        68\n",
            "          15       1.00      0.01      0.02       111\n",
            "\n",
            "    accuracy                           0.20      2863\n",
            "   macro avg       0.23      0.07      0.04      2863\n",
            "weighted avg       0.35      0.20      0.11      2863\n",
            "\n"
          ]
        }
      ],
      "source": [
        "#KNN Classifier for TF-IDF\n",
        "from sklearn.neighbors import KNeighborsClassifier\n",
        "knn = KNeighborsClassifier(n_neighbors = 200)  # n_neighbors means k\n",
        "knn.fit(X_train_tfidf, y_train)\n",
        "\n",
        "Y_pred = knn.predict(X_test_tfidf)\n",
        "# evaluate predictions\n",
        "print(classification_report(y_test,Y_pred))\n",
        "score = f1_score(y_test, Y_pred, average='micro')\n",
        "Newf1_tfidf['KNN'] = score* 100.0"
      ]
    },
    {
      "cell_type": "markdown",
      "source": [
        "# Analysis of New Models"
      ],
      "metadata": {
        "id": "iRdVu9CkNxDg"
      }
    },
    {
      "cell_type": "code",
      "execution_count": null,
      "metadata": {
        "colab": {
          "base_uri": "https://localhost:8080/",
          "height": 143
        },
        "id": "1sYuZCi5MP3Y",
        "outputId": "8bd47e17-b79b-4893-afdd-8edd732e0fb5"
      },
      "outputs": [
        {
          "output_type": "execute_result",
          "data": {
            "text/html": [
              "<div>\n",
              "<style scoped>\n",
              "    .dataframe tbody tr th:only-of-type {\n",
              "        vertical-align: middle;\n",
              "    }\n",
              "\n",
              "    .dataframe tbody tr th {\n",
              "        vertical-align: top;\n",
              "    }\n",
              "\n",
              "    .dataframe thead th {\n",
              "        text-align: right;\n",
              "    }\n",
              "</style>\n",
              "<table border=\"1\" class=\"dataframe\">\n",
              "  <thead>\n",
              "    <tr style=\"text-align: right;\">\n",
              "      <th></th>\n",
              "      <th>F1 Score BoW New(%)</th>\n",
              "    </tr>\n",
              "  </thead>\n",
              "  <tbody>\n",
              "    <tr>\n",
              "      <th>XG Boost</th>\n",
              "      <td>58.085924</td>\n",
              "    </tr>\n",
              "    <tr>\n",
              "      <th>Cat Boost</th>\n",
              "      <td>54.662941</td>\n",
              "    </tr>\n",
              "    <tr>\n",
              "      <th>KNN</th>\n",
              "      <td>28.711142</td>\n",
              "    </tr>\n",
              "  </tbody>\n",
              "</table>\n",
              "</div>"
            ],
            "text/plain": [
              "           F1 Score BoW New(%)\n",
              "XG Boost             58.085924\n",
              "Cat Boost            54.662941\n",
              "KNN                  28.711142"
            ]
          },
          "metadata": {},
          "execution_count": 82
        }
      ],
      "source": [
        "pd.DataFrame.from_dict(Newf1_bow, orient='index', columns=['F1 Score BoW New(%)'])"
      ]
    },
    {
      "cell_type": "code",
      "execution_count": null,
      "metadata": {
        "colab": {
          "base_uri": "https://localhost:8080/",
          "height": 143
        },
        "id": "O_U7MknhMSuc",
        "outputId": "76b7dd8f-34d7-4c4e-8615-e051f5bae94d"
      },
      "outputs": [
        {
          "output_type": "execute_result",
          "data": {
            "text/html": [
              "<div>\n",
              "<style scoped>\n",
              "    .dataframe tbody tr th:only-of-type {\n",
              "        vertical-align: middle;\n",
              "    }\n",
              "\n",
              "    .dataframe tbody tr th {\n",
              "        vertical-align: top;\n",
              "    }\n",
              "\n",
              "    .dataframe thead th {\n",
              "        text-align: right;\n",
              "    }\n",
              "</style>\n",
              "<table border=\"1\" class=\"dataframe\">\n",
              "  <thead>\n",
              "    <tr style=\"text-align: right;\">\n",
              "      <th></th>\n",
              "      <th>F1 Score TF-IDF New(%)</th>\n",
              "    </tr>\n",
              "  </thead>\n",
              "  <tbody>\n",
              "    <tr>\n",
              "      <th>XG Boost</th>\n",
              "      <td>57.841425</td>\n",
              "    </tr>\n",
              "    <tr>\n",
              "      <th>Cat Boost</th>\n",
              "      <td>53.440447</td>\n",
              "    </tr>\n",
              "    <tr>\n",
              "      <th>KNN</th>\n",
              "      <td>20.048900</td>\n",
              "    </tr>\n",
              "  </tbody>\n",
              "</table>\n",
              "</div>"
            ],
            "text/plain": [
              "           F1 Score TF-IDF New(%)\n",
              "XG Boost                57.841425\n",
              "Cat Boost               53.440447\n",
              "KNN                     20.048900"
            ]
          },
          "metadata": {},
          "execution_count": 83
        }
      ],
      "source": [
        "pd.DataFrame.from_dict(Newf1_tfidf, orient='index', columns=['F1 Score TF-IDF New(%)'])"
      ]
    },
    {
      "cell_type": "code",
      "execution_count": null,
      "metadata": {
        "colab": {
          "base_uri": "https://localhost:8080/",
          "height": 538
        },
        "id": "J7bD0MDiMcWs",
        "outputId": "a1b51018-e385-4c17-9b69-37696face3e1"
      },
      "outputs": [
        {
          "output_type": "display_data",
          "data": {
            "image/png": "[encoded data removed]",
            "text/plain": [
              "<Figure size 720x576 with 1 Axes>"
            ]
          },
          "metadata": {
            "needs_background": "light"
          }
        }
      ],
      "source": [
        "#Plot for comparision between baseline models\n",
        "X = list(Newf1_bow.keys())\n",
        "Newf1_bow_list = list(Newf1_bow.values())\n",
        "Newf1_tfidf_list =  list(Newf1_tfidf.values())\n",
        "f1_bows = Newf1_bow_list\n",
        "f1_tfidfs = Newf1_tfidf_list\n",
        "  \n",
        "X_axis = np.arange(len(X))\n",
        "plt.figure(figsize=(10,8))   \n",
        "plt.bar(X_axis - 0.2, f1_bows, 0.4, label = 'BoW',color = 'yellow',edgecolor = 'black')\n",
        "plt.bar(X_axis + 0.2, f1_tfidfs, 0.4, label = 'TFIDF',color = 'purple',edgecolor = 'black')\n",
        "  \n",
        "plt.xticks(X_axis, X)\n",
        "plt.xlabel(\"Models\")\n",
        "plt.ylabel(\"F1 Score\")\n",
        "plt.title(\"Comparision of New Models\")\n",
        "plt.legend()\n",
        "\n",
        "plt.show()"
      ]
    },
    {
      "cell_type": "markdown",
      "source": [
        "### We have implemented New Boosting techniques XG-Boost and CatBoost and KNN classification using both Bag of Words Technique and TF-IDF but observed that TF-IDF even performed less precisely as compared to BoW techniques.\n"
      ],
      "metadata": {
        "id": "bn0r7bP3K-nv"
      }
    },
    {
      "cell_type": "markdown",
      "source": [
        "### So, There is a need arises for some new formulation either to dataset or models to increase the f1 scores since earlier approaches did not appear acceptable."
      ],
      "metadata": {
        "id": "tQU_dTWmLpuw"
      }
    },
    {
      "cell_type": "markdown",
      "source": [
        "\n",
        "\n",
        "---\n",
        "\n",
        "\n",
        "---\n",
        "\n"
      ],
      "metadata": {
        "id": "onGjYQ5zju5H"
      }
    },
    {
      "cell_type": "markdown",
      "source": [
        "# Dataset Tweaking"
      ],
      "metadata": {
        "id": "QBGigO4WsvJ3"
      }
    },
    {
      "cell_type": "markdown",
      "metadata": {
        "id": "UaRA_B5kLrtu"
      },
      "source": [
        "## **MBTI across 4 axis**\n",
        "\n",
        "---\n",
        "\n"
      ]
    },
    {
      "cell_type": "markdown",
      "metadata": {
        "id": "vo02Mx2R4Bfk"
      },
      "source": [
        "As we have seen all the ML models that we have applied have given F1 score of around 0.5 which is pretty bad.\n",
        "\n",
        "So instead of training model on all 16 types of personalities, we now try to train models on 4 classifiers individually for better predictions.\n",
        "\n",
        "**16 Personality types across 4 axis :**\n",
        "\n",
        "1. Introversion (I) – Extroversion (E)\n",
        "2. Intuition (N) – Sensing (S)\n",
        "3. Thinking (T) – Feeling (F)\n",
        "4. Judging (J) – Perceiving (P)"
      ]
    },
    {
      "cell_type": "code",
      "metadata": {
        "id": "TwnPIWauL07M"
      },
      "source": [
        "mbti_df['I/E'] = mbti_df.type\n",
        "mbti_df['N/S'] = mbti_df.type\n",
        "mbti_df['F/T'] = mbti_df.type\n",
        "mbti_df['P/J'] = mbti_df.type\n",
        "\n",
        "for i, t in enumerate(mbti_df.type):\n",
        "    if 'I' in t:\n",
        "        mbti_df['I/E'][i] = 'I'\n",
        "    elif 'E' in t:\n",
        "        mbti_df['I/E'][i] = 'E'\n",
        "        \n",
        "    if 'N' in t:\n",
        "        mbti_df['N/S'][i] = 'N'\n",
        "    elif 'S' in t:\n",
        "        mbti_df['N/S'][i] = 'S'\n",
        "        \n",
        "    if 'F' in t:\n",
        "        mbti_df['F/T'][i] = 'F'\n",
        "    elif 'T' in t:\n",
        "        mbti_df['F/T'][i] = 'T'\n",
        "        \n",
        "    if 'P' in t:\n",
        "        mbti_df['P/J'][i] = 'P'\n",
        "    elif 'J' in t:\n",
        "        mbti_df['P/J'][i] = 'J'\n",
        "\n",
        "\n",
        "posts = mbti_df.posts.values\n",
        "yIE = mbti_df['I/E'].values\n",
        "yNS = mbti_df['N/S'].values\n",
        "yFT = mbti_df['F/T'].values\n",
        "yPJ = mbti_df['P/J'].values\n",
        "y = mbti_df.type"
      ],
      "execution_count": null,
      "outputs": []
    },
    {
      "cell_type": "code",
      "metadata": {
        "colab": {
          "base_uri": "https://localhost:8080/",
          "height": 423
        },
        "id": "QZAmjzM8M23c",
        "outputId": "49d5d598-38a2-4b6f-cdbc-20d0139b8c2b"
      },
      "source": [
        "mbti_df"
      ],
      "execution_count": null,
      "outputs": [
        {
          "output_type": "execute_result",
          "data": {
            "text/html": [
              "<div>\n",
              "<style scoped>\n",
              "    .dataframe tbody tr th:only-of-type {\n",
              "        vertical-align: middle;\n",
              "    }\n",
              "\n",
              "    .dataframe tbody tr th {\n",
              "        vertical-align: top;\n",
              "    }\n",
              "\n",
              "    .dataframe thead th {\n",
              "        text-align: right;\n",
              "    }\n",
              "</style>\n",
              "<table border=\"1\" class=\"dataframe\">\n",
              "  <thead>\n",
              "    <tr style=\"text-align: right;\">\n",
              "      <th></th>\n",
              "      <th>type</th>\n",
              "      <th>posts</th>\n",
              "      <th>I/E</th>\n",
              "      <th>N/S</th>\n",
              "      <th>F/T</th>\n",
              "      <th>P/J</th>\n",
              "    </tr>\n",
              "  </thead>\n",
              "  <tbody>\n",
              "    <tr>\n",
              "      <th>0</th>\n",
              "      <td>INFJ</td>\n",
              "      <td>enfp and intj moments sportscenter not top te...</td>\n",
              "      <td>I</td>\n",
              "      <td>N</td>\n",
              "      <td>F</td>\n",
              "      <td>J</td>\n",
              "    </tr>\n",
              "    <tr>\n",
              "      <th>1</th>\n",
              "      <td>ENTP</td>\n",
              "      <td>im finding the lack of me in these posts very ...</td>\n",
              "      <td>E</td>\n",
              "      <td>N</td>\n",
              "      <td>T</td>\n",
              "      <td>P</td>\n",
              "    </tr>\n",
              "    <tr>\n",
              "      <th>2</th>\n",
              "      <td>INTP</td>\n",
              "      <td>good one of course to which i say i know thats...</td>\n",
              "      <td>I</td>\n",
              "      <td>N</td>\n",
              "      <td>T</td>\n",
              "      <td>P</td>\n",
              "    </tr>\n",
              "    <tr>\n",
              "      <th>3</th>\n",
              "      <td>INTJ</td>\n",
              "      <td>dear intp i enjoyed our conversation the other...</td>\n",
              "      <td>I</td>\n",
              "      <td>N</td>\n",
              "      <td>T</td>\n",
              "      <td>J</td>\n",
              "    </tr>\n",
              "    <tr>\n",
              "      <th>4</th>\n",
              "      <td>ENTJ</td>\n",
              "      <td>youre fired eostokendot thats another silly mi...</td>\n",
              "      <td>E</td>\n",
              "      <td>N</td>\n",
              "      <td>T</td>\n",
              "      <td>J</td>\n",
              "    </tr>\n",
              "    <tr>\n",
              "      <th>...</th>\n",
              "      <td>...</td>\n",
              "      <td>...</td>\n",
              "      <td>...</td>\n",
              "      <td>...</td>\n",
              "      <td>...</td>\n",
              "      <td>...</td>\n",
              "    </tr>\n",
              "    <tr>\n",
              "      <th>8670</th>\n",
              "      <td>ISFP</td>\n",
              "      <td>ixfp just because i always think of cats as f...</td>\n",
              "      <td>I</td>\n",
              "      <td>S</td>\n",
              "      <td>F</td>\n",
              "      <td>P</td>\n",
              "    </tr>\n",
              "    <tr>\n",
              "      <th>8671</th>\n",
              "      <td>ENFP</td>\n",
              "      <td>so eostokendot eostokendot eostokendot if this...</td>\n",
              "      <td>E</td>\n",
              "      <td>N</td>\n",
              "      <td>F</td>\n",
              "      <td>P</td>\n",
              "    </tr>\n",
              "    <tr>\n",
              "      <th>8672</th>\n",
              "      <td>INTP</td>\n",
              "      <td>so many questions when i do these things eosto...</td>\n",
              "      <td>I</td>\n",
              "      <td>N</td>\n",
              "      <td>T</td>\n",
              "      <td>P</td>\n",
              "    </tr>\n",
              "    <tr>\n",
              "      <th>8673</th>\n",
              "      <td>INFP</td>\n",
              "      <td>i am very conflicted right now when it comes t...</td>\n",
              "      <td>I</td>\n",
              "      <td>N</td>\n",
              "      <td>F</td>\n",
              "      <td>P</td>\n",
              "    </tr>\n",
              "    <tr>\n",
              "      <th>8674</th>\n",
              "      <td>INFP</td>\n",
              "      <td>it has been too long since i have been on pers...</td>\n",
              "      <td>I</td>\n",
              "      <td>N</td>\n",
              "      <td>F</td>\n",
              "      <td>P</td>\n",
              "    </tr>\n",
              "  </tbody>\n",
              "</table>\n",
              "<p>8675 rows × 6 columns</p>\n",
              "</div>"
            ],
            "text/plain": [
              "      type                                              posts I/E N/S F/T P/J\n",
              "0     INFJ   enfp and intj moments sportscenter not top te...   I   N   F   J\n",
              "1     ENTP  im finding the lack of me in these posts very ...   E   N   T   P\n",
              "2     INTP  good one of course to which i say i know thats...   I   N   T   P\n",
              "3     INTJ  dear intp i enjoyed our conversation the other...   I   N   T   J\n",
              "4     ENTJ  youre fired eostokendot thats another silly mi...   E   N   T   J\n",
              "...    ...                                                ...  ..  ..  ..  ..\n",
              "8670  ISFP   ixfp just because i always think of cats as f...   I   S   F   P\n",
              "8671  ENFP  so eostokendot eostokendot eostokendot if this...   E   N   F   P\n",
              "8672  INTP  so many questions when i do these things eosto...   I   N   T   P\n",
              "8673  INFP  i am very conflicted right now when it comes t...   I   N   F   P\n",
              "8674  INFP  it has been too long since i have been on pers...   I   N   F   P\n",
              "\n",
              "[8675 rows x 6 columns]"
            ]
          },
          "metadata": {},
          "execution_count": 36
        }
      ]
    },
    {
      "cell_type": "code",
      "metadata": {
        "colab": {
          "base_uri": "https://localhost:8080/"
        },
        "id": "mB0CWf4HYUC_",
        "outputId": "ca878161-eb4c-469e-bae4-9c3adf371b37"
      },
      "source": [
        "print(\"Frequency :\")\n",
        "print(\"-------------------------------------------------------\")\n",
        "print (\"Introversion (I) /  Extroversion (E):   \", mbti_df['I/E'].value_counts()['I'], \" / \", mbti_df['I/E'].value_counts()['E'])\n",
        "print (\"Intuition (N) / Sensing (S):            \", mbti_df['N/S'].value_counts()['N'], \" / \", mbti_df['N/S'].value_counts()['S'])\n",
        "print (\"Thinking (T) / Feeling (F):             \", mbti_df['F/T'].value_counts()['F'], \" / \", mbti_df['F/T'].value_counts()['T'])\n",
        "print (\"Judging (J) / Perceiving (P):           \", mbti_df['P/J'].value_counts()['P'], \" / \", mbti_df['P/J'].value_counts()['J'])"
      ],
      "execution_count": null,
      "outputs": [
        {
          "output_type": "stream",
          "name": "stdout",
          "text": [
            "Frequency :\n",
            "-------------------------------------------------------\n",
            "Introversion (I) /  Extroversion (E):    6676  /  1999\n",
            "Intuition (N) / Sensing (S):             7478  /  1197\n",
            "Thinking (T) / Feeling (F):              4694  /  3981\n",
            "Judging (J) / Perceiving (P):            5241  /  3434\n"
          ]
        }
      ]
    },
    {
      "cell_type": "code",
      "source": [
        "cv = CountVectorizer(analyzer=\"word\", max_features=5000) \n",
        "xCV = cv.fit_transform(mbti_df['posts'])\n",
        "tfidf = TfidfTransformer()\n",
        "\n",
        "print(\"Now the dataset size is as below\")\n",
        "X_tfidf =  tfidf.fit_transform(xCV).toarray()\n",
        "print(X_tfidf.shape)"
      ],
      "metadata": {
        "id": "sR7q-uEEXXSu"
      },
      "execution_count": null,
      "outputs": []
    },
    {
      "cell_type": "markdown",
      "source": [
        "### Train-Test Splitting :"
      ],
      "metadata": {
        "id": "9tBYxm1wW8f6"
      }
    },
    {
      "cell_type": "code",
      "metadata": {
        "id": "9Z6-PRWBQt7v"
      },
      "source": [
        "xIETrain, xIETest, yIETrain, yIETest = train_test_split(X_tfidf, yIE, test_size=0.25,stratify=yIE)\n",
        "xNSTrain, xNSTest, yNSTrain, yNSTest = train_test_split(X_tfidf, yNS, test_size=0.25,stratify=yNS)\n",
        "xFTTrain, xFTTest, yFTTrain, yFTTest = train_test_split(X_tfidf, yFT, test_size=0.25,stratify=yFT)\n",
        "xPJTrain, xPJTest, yPJTrain, yPJTest = train_test_split(X_tfidf, yPJ, test_size=0.25,stratify=yPJ)"
      ],
      "execution_count": null,
      "outputs": []
    },
    {
      "cell_type": "markdown",
      "source": [
        "We have splitted the data with 75:25 train-test ratio.\n",
        "\n",
        "**For handling Imbalancement of data, we have used stratify parameter** "
      ],
      "metadata": {
        "id": "ssDXJp8MXcg3"
      }
    },
    {
      "cell_type": "markdown",
      "metadata": {
        "id": "KigZ-gD4gtk2"
      },
      "source": [
        "## Models"
      ]
    },
    {
      "cell_type": "markdown",
      "source": [
        "1. SVM"
      ],
      "metadata": {
        "id": "eEzLejtjQTYg"
      }
    },
    {
      "cell_type": "code",
      "source": [
        "#SVM for TF-IDF\n",
        "from sklearn.svm import SVC\n",
        "\n",
        "svm1 = SVC(random_state = 1)\n",
        "svmIE= svm1.fit(xIETrain,yIETrain)\n",
        "\n",
        "svm2 = SVC(random_state = 1)\n",
        "svmNS= svm2.fit(xNSTrain,yNSTrain)\n",
        "\n",
        "svm3 = SVC(random_state = 1)\n",
        "svmFT= svm3.fit(xFTTrain,yFTTrain)\n",
        "\n",
        "svm4 = SVC(random_state = 1)\n",
        "svmPJ= svm4.fit(xPJTrain,yPJTrain)"
      ],
      "metadata": {
        "id": "xK16GDa4Qdoo"
      },
      "execution_count": null,
      "outputs": []
    },
    {
      "cell_type": "code",
      "source": [
        "Y_pred_IE = svmIE.predict(xIETest)\n",
        "Y_pred_NS = svmNS.predict(xNSTest)\n",
        "Y_pred_FT = svmFT.predict(xFTTest)\n",
        "Y_pred_PJ = svmPJ.predict(xPJTest)"
      ],
      "metadata": {
        "id": "tVf6i_46Qdoq"
      },
      "execution_count": null,
      "outputs": []
    },
    {
      "cell_type": "code",
      "source": [
        "print(\"Results : Testing\")\n",
        "print(\"------------------\")\n",
        "\n",
        "print(\"I/E :\")\n",
        "f1_svmIE=f1_score(yIETest, Y_pred_IE, average='micro')\n",
        "print(f1_svmIE)\n",
        "print(\"N/S :\")\n",
        "f1_svmNS=f1_score(yNSTest, Y_pred_NS, average='micro')\n",
        "print(f1_svmNS)\n",
        "print(\"F/T :\")\n",
        "f1_svmFT=f1_score(yFTTest, Y_pred_FT, average='micro')\n",
        "print(f1_svmFT)\n",
        "print(\"P/J :\")\n",
        "f1_svmPJ=f1_score(yPJTest, Y_pred_PJ, average='micro')\n",
        "print(f1_svmPJ)"
      ],
      "metadata": {
        "colab": {
          "base_uri": "https://localhost:8080/"
        },
        "outputId": "c150968b-7cbe-4b1e-9bd5-b93cad7b8309",
        "id": "3gjf0xIRQdoq"
      },
      "execution_count": null,
      "outputs": [
        {
          "output_type": "stream",
          "name": "stdout",
          "text": [
            "Results : Testing\n",
            "------------------\n",
            "I/E :\n",
            "0.7773167358229599\n",
            "N/S :\n",
            "0.8621484555094514\n",
            "F/T :\n",
            "0.7819271553711388\n",
            "P/J :\n",
            "0.6823420931304749\n"
          ]
        }
      ]
    },
    {
      "cell_type": "markdown",
      "source": [
        "2. Random Forest"
      ],
      "metadata": {
        "id": "G-o7vCfYO7B-"
      }
    },
    {
      "cell_type": "code",
      "source": [
        "#Random Forest for TF-IDF\n",
        "from sklearn.ensemble import RandomForestClassifier\n",
        "\n",
        "rf1 = RandomForestClassifier(n_estimators=100, random_state = 1)\n",
        "rfIE= rf1.fit(xIETrain,yIETrain)\n",
        "\n",
        "rf2 = RandomForestClassifier(n_estimators=100, random_state = 1)\n",
        "rfNS= rf2.fit(xNSTrain,yNSTrain)\n",
        "\n",
        "rf3 = RandomForestClassifier(n_estimators=100, random_state = 1)\n",
        "rfFT= rf3.fit(xFTTrain,yFTTrain)\n",
        "\n",
        "rf4 = RandomForestClassifier(n_estimators=100, random_state = 1)\n",
        "rfPJ= rf4.fit(xPJTrain,yPJTrain)"
      ],
      "metadata": {
        "id": "F3uIJbUYPR3B"
      },
      "execution_count": null,
      "outputs": []
    },
    {
      "cell_type": "code",
      "source": [
        "Y_pred_IE = rfIE.predict(xIETest)\n",
        "Y_pred_NS = rfNS.predict(xNSTest)\n",
        "Y_pred_FT = rfFT.predict(xFTTest)\n",
        "Y_pred_PJ = rfPJ.predict(xPJTest)"
      ],
      "metadata": {
        "id": "8HwSdwFTPR3d"
      },
      "execution_count": null,
      "outputs": []
    },
    {
      "cell_type": "code",
      "source": [
        "print(\"Results : Testing\")\n",
        "print(\"------------------\")\n",
        "\n",
        "print(\"I/E :\")\n",
        "f1_rfIE=f1_score(yIETest, Y_pred_IE, average='micro')\n",
        "print(f1_rfIE)\n",
        "print(\"N/S :\")\n",
        "f1_rfNS=f1_score(yNSTest, Y_pred_NS, average='micro')\n",
        "print(f1_rfNS)\n",
        "print(\"F/T :\")\n",
        "f1_rfFT=f1_score(yFTTest, Y_pred_FT, average='micro')\n",
        "print(f1_rfFT)\n",
        "print(\"P/J :\")\n",
        "f1_rfPJ=f1_score(yPJTest, Y_pred_PJ, average='micro')\n",
        "print(f1_rfPJ)"
      ],
      "metadata": {
        "colab": {
          "base_uri": "https://localhost:8080/"
        },
        "outputId": "e9eaba66-d66c-45ff-bb02-d4d3d36d6d3a",
        "id": "9lwLE2_APR3e"
      },
      "execution_count": null,
      "outputs": [
        {
          "output_type": "stream",
          "name": "stdout",
          "text": [
            "Results : Testing\n",
            "------------------\n",
            "I/E :\n",
            "0.7713231904103274\n",
            "N/S :\n",
            "0.8630705394190872\n",
            "F/T :\n",
            "0.7408944213923468\n",
            "P/J :\n",
            "0.6625172890733056\n"
          ]
        }
      ]
    },
    {
      "cell_type": "markdown",
      "metadata": {
        "id": "ZqzeNi8W7Uv8"
      },
      "source": [
        "3. XGBOOST"
      ]
    },
    {
      "cell_type": "code",
      "metadata": {
        "id": "9JMXqrdcgNUI"
      },
      "source": [
        "#XG boost Classifier on TFIDF :\n",
        "xgb1 = XGBClassifier()\n",
        "xgbIE=xgb1.fit(xIETrain,yIETrain)"
      ],
      "execution_count": null,
      "outputs": []
    },
    {
      "cell_type": "code",
      "metadata": {
        "id": "5NXutyZv6xbM"
      },
      "source": [
        "xgb2 = XGBClassifier()\n",
        "xgbNS=xgb2.fit(xNSTrain,yNSTrain)"
      ],
      "execution_count": null,
      "outputs": []
    },
    {
      "cell_type": "code",
      "metadata": {
        "id": "4_-anZ4Fxmfn"
      },
      "source": [
        "xgb3 = XGBClassifier()\n",
        "xgbFT=xgb3.fit(xFTTrain,yFTTrain)"
      ],
      "execution_count": null,
      "outputs": []
    },
    {
      "cell_type": "code",
      "metadata": {
        "id": "4Xtklq58620N"
      },
      "source": [
        "xgb4 = XGBClassifier()\n",
        "xgbPJ=xgb4.fit(xPJTrain,yPJTrain)"
      ],
      "execution_count": null,
      "outputs": []
    },
    {
      "cell_type": "code",
      "metadata": {
        "id": "36LIAXyv8LCe"
      },
      "source": [
        "Y_pred_IE = xgbIE.predict(xIETest)\n",
        "Y_pred_NS = xgbNS.predict(xNSTest)\n",
        "Y_pred_FT = xgbFT.predict(xFTTest)\n",
        "Y_pred_PJ = xgbPJ.predict(xPJTest)"
      ],
      "execution_count": null,
      "outputs": []
    },
    {
      "cell_type": "code",
      "metadata": {
        "colab": {
          "base_uri": "https://localhost:8080/"
        },
        "id": "8E8vDvVAifD2",
        "outputId": "da99d890-1713-4ee5-c770-c5eee1ed4337"
      },
      "source": [
        "print(\"Results : Testing\")\n",
        "print(\"------------------\")\n",
        "\n",
        "print(\"I/E :\")\n",
        "f1_xgboostIE=f1_score(yIETest, Y_pred_IE, average='micro')\n",
        "print(f1_xgboostIE)\n",
        "print(\"N/S :\")\n",
        "f1_xgboostNS=f1_score(yNSTest, Y_pred_NS, average='micro')\n",
        "print(f1_xgboostNS)\n",
        "print(\"F/T :\")\n",
        "f1_xgboostFT=f1_score(yFTTest, Y_pred_FT, average='micro')\n",
        "print(f1_xgboostFT)\n",
        "print(\"P/J :\")\n",
        "f1_xgboostPJ=f1_score(yPJTest, Y_pred_PJ, average='micro')\n",
        "print(f1_xgboostPJ)"
      ],
      "execution_count": null,
      "outputs": [
        {
          "output_type": "stream",
          "name": "stdout",
          "text": [
            "Results : Testing\n",
            "------------------\n",
            "I/E :\n",
            "0.7856154910096818\n",
            "N/S :\n",
            "0.8736745043798986\n",
            "F/T :\n",
            "0.7487321346242508\n",
            "P/J :\n",
            "0.702166897187644\n"
          ]
        }
      ]
    },
    {
      "cell_type": "markdown",
      "source": [
        "4. Cat Boost"
      ],
      "metadata": {
        "id": "VkI9RyHTMxmR"
      }
    },
    {
      "cell_type": "code",
      "source": [
        "#Cat Boost for TF-IDF\n",
        "from catboost import CatBoostClassifier\n",
        "\n",
        "cat1 = CatBoostClassifier(iterations=10,learning_rate=1)\n",
        "catIE= cat1.fit(xIETrain,yIETrain)\n",
        "\n",
        "cat2 = CatBoostClassifier(iterations=10,learning_rate=1)\n",
        "catNS= cat2.fit(xNSTrain,yNSTrain)\n",
        "\n",
        "cat3 = CatBoostClassifier(iterations=10,learning_rate=1)\n",
        "catFT= cat3.fit(xFTTrain,yFTTrain)\n",
        "\n",
        "cat4 = CatBoostClassifier(iterations=10,learning_rate=1)\n",
        "catPJ= cat4.fit(xPJTrain,yPJTrain)"
      ],
      "metadata": {
        "colab": {
          "base_uri": "https://localhost:8080/"
        },
        "id": "w-55hIh6MXLV",
        "outputId": "546b46d0-8d91-49f4-ddda-aebc92c9b1e0"
      },
      "execution_count": null,
      "outputs": [
        {
          "output_type": "stream",
          "name": "stderr",
          "text": [
            "Custom logger is already specified. Specify more than one logger at same time is not thread safe."
          ]
        },
        {
          "output_type": "stream",
          "name": "stdout",
          "text": [
            "0:\tlearn: 0.5036151\ttotal: 1.15s\tremaining: 10.3s\n",
            "1:\tlearn: 0.4847703\ttotal: 1.92s\tremaining: 7.67s\n",
            "2:\tlearn: 0.4676751\ttotal: 2.69s\tremaining: 6.28s\n",
            "3:\tlearn: 0.4578310\ttotal: 3.48s\tremaining: 5.21s\n",
            "4:\tlearn: 0.4511236\ttotal: 4.25s\tremaining: 4.25s\n",
            "5:\tlearn: 0.4442184\ttotal: 5.02s\tremaining: 3.35s\n",
            "6:\tlearn: 0.4413302\ttotal: 5.78s\tremaining: 2.48s\n",
            "7:\tlearn: 0.4360639\ttotal: 6.54s\tremaining: 1.63s\n",
            "8:\tlearn: 0.4300127\ttotal: 7.31s\tremaining: 812ms\n",
            "9:\tlearn: 0.4235002\ttotal: 8.08s\tremaining: 0us\n",
            "0:\tlearn: 0.4009570\ttotal: 1.05s\tremaining: 9.48s\n",
            "1:\tlearn: 0.3680540\ttotal: 1.82s\tremaining: 7.3s\n",
            "2:\tlearn: 0.3453515\ttotal: 2.59s\tremaining: 6.05s\n",
            "3:\tlearn: 0.3362675\ttotal: 3.36s\tremaining: 5.04s\n",
            "4:\tlearn: 0.3270363\ttotal: 4.13s\tremaining: 4.13s\n",
            "5:\tlearn: 0.3163781\ttotal: 4.89s\tremaining: 3.26s\n",
            "6:\tlearn: 0.3098627\ttotal: 5.65s\tremaining: 2.42s\n",
            "7:\tlearn: 0.3010410\ttotal: 6.43s\tremaining: 1.61s\n",
            "8:\tlearn: 0.2969419\ttotal: 7.22s\tremaining: 802ms\n",
            "9:\tlearn: 0.2912864\ttotal: 7.98s\tremaining: 0us\n",
            "0:\tlearn: 0.6089181\ttotal: 1.08s\tremaining: 9.69s\n",
            "1:\tlearn: 0.5735977\ttotal: 1.86s\tremaining: 7.43s\n",
            "2:\tlearn: 0.5462714\ttotal: 2.65s\tremaining: 6.18s\n",
            "3:\tlearn: 0.5349709\ttotal: 3.42s\tremaining: 5.13s\n",
            "4:\tlearn: 0.5294578\ttotal: 4.19s\tremaining: 4.19s\n",
            "5:\tlearn: 0.5229365\ttotal: 4.95s\tremaining: 3.3s\n",
            "6:\tlearn: 0.5107523\ttotal: 5.74s\tremaining: 2.46s\n",
            "7:\tlearn: 0.4986434\ttotal: 6.52s\tremaining: 1.63s\n",
            "8:\tlearn: 0.4902748\ttotal: 7.31s\tremaining: 812ms\n",
            "9:\tlearn: 0.4785426\ttotal: 8.09s\tremaining: 0us\n",
            "0:\tlearn: 0.6171052\ttotal: 1.05s\tremaining: 9.44s\n",
            "1:\tlearn: 0.5969161\ttotal: 1.81s\tremaining: 7.26s\n",
            "2:\tlearn: 0.5892130\ttotal: 2.59s\tremaining: 6.05s\n",
            "3:\tlearn: 0.5796597\ttotal: 3.37s\tremaining: 5.06s\n",
            "4:\tlearn: 0.5752687\ttotal: 4.14s\tremaining: 4.14s\n",
            "5:\tlearn: 0.5685669\ttotal: 4.9s\tremaining: 3.26s\n",
            "6:\tlearn: 0.5611147\ttotal: 5.69s\tremaining: 2.44s\n",
            "7:\tlearn: 0.5542918\ttotal: 6.46s\tremaining: 1.61s\n",
            "8:\tlearn: 0.5444096\ttotal: 7.25s\tremaining: 805ms\n",
            "9:\tlearn: 0.5353490\ttotal: 8.02s\tremaining: 0us\n"
          ]
        }
      ]
    },
    {
      "cell_type": "code",
      "source": [
        "Y_pred_IE = catIE.predict(xIETest)\n",
        "Y_pred_NS = catNS.predict(xNSTest)\n",
        "Y_pred_FT = catFT.predict(xFTTest)\n",
        "Y_pred_PJ = catPJ.predict(xPJTest)"
      ],
      "metadata": {
        "id": "KtWUbhhBOA7I"
      },
      "execution_count": null,
      "outputs": []
    },
    {
      "cell_type": "code",
      "source": [
        "print(\"Results : Testing\")\n",
        "print(\"------------------\")\n",
        "\n",
        "print(\"I/E :\")\n",
        "f1_catIE=f1_score(yIETest, Y_pred_IE, average='micro')\n",
        "print(f1_catIE)\n",
        "print(\"N/S :\")\n",
        "f1_catNS=f1_score(yNSTest, Y_pred_NS, average='micro')\n",
        "print(f1_catNS)\n",
        "print(\"F/T :\")\n",
        "f1_catFT=f1_score(yFTTest, Y_pred_FT, average='micro')\n",
        "print(f1_catFT)\n",
        "print(\"P/J :\")\n",
        "f1_catPJ=f1_score(yPJTest, Y_pred_PJ, average='micro')\n",
        "print(f1_catPJ)"
      ],
      "metadata": {
        "colab": {
          "base_uri": "https://localhost:8080/"
        },
        "outputId": "7fb7b788-d7b9-4a8c-8dc4-1f92edffb7f8",
        "id": "dafjIdk0OA7L"
      },
      "execution_count": null,
      "outputs": [
        {
          "output_type": "stream",
          "name": "stdout",
          "text": [
            "Results : Testing\n",
            "------------------\n",
            "I/E :\n",
            "0.7648686030428768\n",
            "N/S :\n",
            "0.8621484555094514\n",
            "F/T :\n",
            "0.7136929460580913\n",
            "P/J :\n",
            "0.6523743660673121\n"
          ]
        }
      ]
    },
    {
      "cell_type": "markdown",
      "source": [
        "5. KNN"
      ],
      "metadata": {
        "id": "tbALzKFAMvBJ"
      }
    },
    {
      "cell_type": "code",
      "source": [
        "#KNN Classifier for TF-IDF\n",
        "from sklearn.neighbors import KNeighborsClassifier\n",
        "\n",
        "knn1 = KNeighborsClassifier(n_neighbors = 250)  # n_neighbors means k\n",
        "knnIE = knn1.fit(xIETrain,yIETrain)\n",
        "\n",
        "knn2 = KNeighborsClassifier(n_neighbors = 250)  # n_neighbors means k\n",
        "knnNS = knn2.fit(xNSTrain,yNSTrain)\n",
        "\n",
        "knn3 = KNeighborsClassifier(n_neighbors = 250)  # n_neighbors means k\n",
        "knnFT = knn3.fit(xFTTrain,yFTTrain)\n",
        "\n",
        "knn4 = KNeighborsClassifier(n_neighbors = 250)  # n_neighbors means k\n",
        "knnPJ = knn4.fit(xPJTrain,yPJTrain)"
      ],
      "metadata": {
        "id": "A8JEZwSCKxzx"
      },
      "execution_count": null,
      "outputs": []
    },
    {
      "cell_type": "code",
      "source": [
        "Y_pred_IE = knnIE.predict(xIETest)\n",
        "Y_pred_NS = knnNS.predict(xNSTest)\n",
        "Y_pred_FT = knnFT.predict(xFTTest)\n",
        "Y_pred_PJ = knnPJ.predict(xPJTest)"
      ],
      "metadata": {
        "id": "le7fdQXEL_Ya"
      },
      "execution_count": null,
      "outputs": []
    },
    {
      "cell_type": "code",
      "source": [
        "print(\"Results : Testing\")\n",
        "print(\"------------------\")\n",
        "\n",
        "print(\"I/E :\")\n",
        "f1_knnIE=f1_score(yIETest, Y_pred_IE, average='micro')\n",
        "print(f1_knnIE)\n",
        "print(\"N/S :\")\n",
        "f1_knnNS=f1_score(yNSTest, Y_pred_NS, average='micro')\n",
        "print(f1_knnNS)\n",
        "print(\"F/T :\")\n",
        "f1_knnFT=f1_score(yFTTest, Y_pred_FT, average='micro')\n",
        "print(f1_knnFT)\n",
        "print(\"P/J :\")\n",
        "f1_knnPJ=f1_score(yPJTest, Y_pred_PJ, average='micro')\n",
        "print(f1_knnPJ)"
      ],
      "metadata": {
        "colab": {
          "base_uri": "https://localhost:8080/"
        },
        "id": "I9Dr4lYzMOGK",
        "outputId": "aec47ae8-fa35-46b0-d2e5-1d3932d8bc66"
      },
      "execution_count": null,
      "outputs": [
        {
          "output_type": "stream",
          "name": "stdout",
          "text": [
            "Results : Testing\n",
            "------------------\n",
            "I/E :\n",
            "0.7694790225910558\n",
            "N/S :\n",
            "0.8621484555094514\n",
            "F/T :\n",
            "0.5656984785615491\n",
            "P/J :\n",
            "0.6053480866758875\n"
          ]
        }
      ]
    },
    {
      "cell_type": "markdown",
      "source": [
        "### ***Model Comparisions***"
      ],
      "metadata": {
        "id": "sRMaMGSISssr"
      }
    },
    {
      "cell_type": "code",
      "source": [
        "#Plot for comparision between models\n",
        "\n",
        "X = ['I/E','N/S', 'F/T', 'P/J']\n",
        "ySVM = [f1_svmIE,f1_svmNS,f1_svmFT,f1_svmPJ]\n",
        "yRF = [f1_rfIE,f1_rfNS,f1_rfFT,f1_rfPJ]\n",
        "yXB = [f1_xgboostIE,f1_xgboostNS,f1_xgboostFT,f1_xgboostPJ]\n",
        "yCB = [f1_catIE,f1_catNS,f1_catFT,f1_catPJ]\n",
        "yKNN = [f1_knnIE,f1_knnNS,f1_knnFT,f1_knnPJ]\n",
        "\n",
        "\n",
        "X_axis = np.arange(len(X))\n",
        "plt.figure(figsize=(18,12))   \n",
        "plt.bar(X_axis - 0.3, ySVM, 0.15, label = 'SVM',color = 'b',edgecolor = 'black')\n",
        "plt.bar(X_axis - 0.15, yRF, 0.15, label = 'Random Forest',color = 'g',edgecolor = 'black')\n",
        "plt.bar(X_axis - 0.0, yXB, 0.15, label = 'XGboost',color = 'r',edgecolor = 'black')\n",
        "plt.bar(X_axis + 0.15, yCB, 0.15, label = 'Cat-boost',color = 'y',edgecolor = 'black')\n",
        "\n",
        "plt.bar(X_axis + 0.3, yKNN, 0.15, label = 'knn',color = 'orange',edgecolor = 'black')\n",
        "  \n",
        "plt.xticks(X_axis, X)\n",
        "plt.xlabel(\"Models\")\n",
        "plt.ylabel(\"F1 Score\")\n",
        "plt.title(\"Comparision of Models Along 4 Axis\")\n",
        "plt.legend()\n",
        "\n",
        "plt.show()"
      ],
      "metadata": {
        "colab": {
          "base_uri": "https://localhost:8080/",
          "height": 756
        },
        "id": "LvXiH6dKSzdQ",
        "outputId": "1f48ffa2-7a98-4a1d-e2c8-1b3c4ed78d33"
      },
      "execution_count": null,
      "outputs": [
        {
          "output_type": "display_data",
          "data": {
            "image/png": "[encoded data removed]",
            "text/plain": [
              "<Figure size 1296x864 with 1 Axes>"
            ]
          },
          "metadata": {
            "needs_background": "light"
          }
        }
      ]
    },
    {
      "cell_type": "markdown",
      "source": [
        "As we can see from the above graph, XGBoost is out-performing all other models along all the MBTI axis except F/T. \n",
        "For F/T, SVM has performed slightly better than XGboost.\n",
        "\n",
        "But overall XGboost has performed the best in comparision to the other models."
      ],
      "metadata": {
        "id": "GNIQPLEgV1Xf"
      }
    },
    {
      "cell_type": "markdown",
      "source": [
        "### Deep Learning : MLP\n",
        "\n",
        "---\n",
        "\n"
      ],
      "metadata": {
        "id": "C7R-BYZ-mVcR"
      }
    },
    {
      "cell_type": "code",
      "source": [
        "from sklearn.neural_network import MLPClassifier"
      ],
      "metadata": {
        "id": "ck9gVkdeP6Dn"
      },
      "execution_count": null,
      "outputs": []
    },
    {
      "cell_type": "markdown",
      "source": [
        "### Grid Search :"
      ],
      "metadata": {
        "id": "I36w7DpTrJOY"
      }
    },
    {
      "cell_type": "code",
      "source": [
        "cv = CountVectorizer(analyzer=\"word\", max_features=1000) \n",
        "xCV = cv.fit_transform(mbti_df['posts'])\n",
        "\n",
        "tfidf = TfidfTransformer()\n",
        "\n",
        "print(\"Now the dataset size is as below\")\n",
        "X_tfidf =  tfidf.fit_transform(xCV).toarray()\n",
        "print(X_tfidf.shape)"
      ],
      "metadata": {
        "colab": {
          "base_uri": "https://localhost:8080/"
        },
        "outputId": "c82b0276-7367-4e9a-c412-de7c4aeebbb2",
        "id": "9IHchWK-rJOW"
      },
      "execution_count": null,
      "outputs": [
        {
          "output_type": "stream",
          "name": "stdout",
          "text": [
            "Now the dataset size is as below\n",
            "(8675, 1000)\n"
          ]
        }
      ]
    },
    {
      "cell_type": "code",
      "source": [
        "noOflayers = ['3-[1]','3-[2]','3-[3]','3-[4]','3-[5]','3-[10]','4-[2,1]','4-[2,2]','4-[2,3]','4-[2,5]', '4-[3,2]','4-[3,3]','4-[5,2]','4-[10,2]','5-[3,2,3]']\n",
        "hidden_layers = [[1],[2],[3],[4],[5],[10],[2,1],[2,2],[2,3],[2,5],[3,2],[3,3],[5,2],[10,2],[3,2,3]]\n",
        "scoresIE = []\n",
        "scoresNS = []\n",
        "scoresFT = []\n",
        "scoresPJ = []"
      ],
      "metadata": {
        "id": "EHKcVfLwsIIM"
      },
      "execution_count": null,
      "outputs": []
    },
    {
      "cell_type": "code",
      "source": [
        "for hl in hidden_layers :\n",
        "\n",
        "  xIETrain, xIETest, yIETrain, yIETest = train_test_split(X_tfidf, yIE, test_size=0.25,stratify=yIE)\n",
        "  xNSTrain, xNSTest, yNSTrain, yNSTest = train_test_split(X_tfidf, yNS, test_size=0.25,stratify=yNS)\n",
        "  xFTTrain, xFTTest, yFTTrain, yFTTest = train_test_split(X_tfidf, yFT, test_size=0.25,stratify=yFT)\n",
        "  xPJTrain, xPJTest, yPJTrain, yPJTest = train_test_split(X_tfidf, yPJ, test_size=0.25,stratify=yPJ)\n",
        "  \n",
        "  clf1 = MLPClassifier(hidden_layer_sizes=hl, max_iter=200).fit(xIETrain, yIETrain)\n",
        "  ypredIEs = clf1.predict(xIETest)\n",
        "  scoresIE.append(f1_score(yIETest, ypredIEs, average='micro'))\n",
        "\n",
        "  clf2 = MLPClassifier(hidden_layer_sizes=hl, max_iter=200).fit(xNSTrain, yNSTrain)\n",
        "  ypredNSs = clf2.predict(xNSTest)\n",
        "  scoresNS.append(f1_score(yNSTest, ypredNSs, average='micro'))\n",
        "\n",
        "  clf3 = MLPClassifier(hidden_layer_sizes=hl, max_iter=200).fit(xFTTrain, yFTTrain)\n",
        "  ypredFTs = clf3.predict(xPJTest)\n",
        "  scoresFT.append(f1_score(yFTTest, ypredFTs, average='micro'))\n",
        "\n",
        "  clf4 = MLPClassifier(hidden_layer_sizes=hl, max_iter=200).fit(xPJTrain, yPJTrain)\n",
        "  ypredPJs = clf4.predict(xPJTest)\n",
        "  scoresPJ.append(f1_score(yPJTest, ypredPJs, average='micro'))"
      ],
      "metadata": {
        "id": "lkaT7SAfmWdV"
      },
      "execution_count": null,
      "outputs": []
    },
    {
      "cell_type": "code",
      "source": [
        "avgScores = []\n",
        "for i in range(0,len(noOflayers)) :\n",
        "  avgScores.append((scoresIE[i] + scoresNS[i] + scoresFT[i] + scoresPJ[i])/4)"
      ],
      "metadata": {
        "id": "C6ex_F2Cuz1a"
      },
      "execution_count": null,
      "outputs": []
    },
    {
      "cell_type": "code",
      "source": [
        "import matplotlib.pyplot as plt\n",
        " \n",
        "x = noOflayers\n",
        "y = avgScores\n",
        "fig, ax = plt.subplots()\n",
        "fig.set_figwidth(18)\n",
        "fig.set_figheight(8)\n",
        "plt.plot(x, y, marker='o')\n",
        "\n",
        "plt.xlabel('hidden_layer_sizes for MLP')\n",
        "\n",
        "plt.ylabel('F1 Score')\n",
        "\n",
        "plt.title('hidden_layer_sizes Vs F1-Score')\n",
        "\n",
        "fig.autofmt_xdate()\n",
        "\n",
        "plt.show()"
      ],
      "metadata": {
        "id": "OpxWM6EgGXc8",
        "colab": {
          "base_uri": "https://localhost:8080/",
          "height": 529
        },
        "outputId": "1903e361-5492-458e-c2b8-82e77cf2b1d7"
      },
      "execution_count": null,
      "outputs": [
        {
          "output_type": "display_data",
          "data": {
            "image/png": "[encoded data removed]",
            "text/plain": [
              "<Figure size 1296x576 with 1 Axes>"
            ]
          },
          "metadata": {
            "needs_background": "light"
          }
        }
      ]
    },
    {
      "cell_type": "markdown",
      "source": [
        "As we can see MLP has performed the best when total number of layers = 4 including 2 hidden layers with nodes = 3,2 respectively.\n",
        "\n",
        "So we will be considering this in our further analysis and evaluation."
      ],
      "metadata": {
        "id": "oV54FzYTWb6A"
      }
    },
    {
      "cell_type": "markdown",
      "source": [
        "### **Model Training and Results**"
      ],
      "metadata": {
        "id": "PU1xgHz3Lsrg"
      }
    },
    {
      "cell_type": "code",
      "source": [
        "cv = CountVectorizer(analyzer=\"word\", max_features=5000) \n",
        "xCV = cv.fit_transform(mbti_df['posts'])\n",
        "\n",
        "tfidf = TfidfTransformer()\n",
        "\n",
        "print(\"Now the dataset size is as below\")\n",
        "X_tfidf =  tfidf.fit_transform(xCV).toarray()\n",
        "print(X_tfidf.shape)"
      ],
      "metadata": {
        "id": "NcH3hevTMISe",
        "colab": {
          "base_uri": "https://localhost:8080/"
        },
        "outputId": "761e3794-e0a1-4231-bddb-b16eb0e638ec"
      },
      "execution_count": null,
      "outputs": [
        {
          "output_type": "stream",
          "name": "stdout",
          "text": [
            "Now the dataset size is as below\n",
            "(8675, 5000)\n"
          ]
        }
      ]
    },
    {
      "cell_type": "code",
      "source": [
        "xIETrain, xIETest, yIETrain, yIETest = train_test_split(X_tfidf, yIE, test_size=0.25,stratify=yIE)\n",
        "xNSTrain, xNSTest, yNSTrain, yNSTest = train_test_split(X_tfidf, yNS, test_size=0.25,stratify=yNS)\n",
        "xFTTrain, xFTTest, yFTTrain, yFTTest = train_test_split(X_tfidf, yFT, test_size=0.25,stratify=yFT)\n",
        "xPJTrain, xPJTest, yPJTrain, yPJTest = train_test_split(X_tfidf, yPJ, test_size=0.25,stratify=yPJ)\n",
        "\n",
        "clf1 = MLPClassifier(hidden_layer_sizes=[3,2], max_iter=200).fit(xIETrain, yIETrain)\n",
        "ypredIEs = clf1.predict(xIETest)\n",
        "f1IE = f1_score(yIETest, ypredIEs, average='micro')\n",
        "\n",
        "clf2 = MLPClassifier(hidden_layer_sizes=[3,2], max_iter=200).fit(xNSTrain, yNSTrain)\n",
        "ypredNSs = clf2.predict(xNSTest)\n",
        "f1NS = f1_score(yNSTest, ypredNSs, average='micro')\n",
        "\n",
        "clf3 = MLPClassifier(hidden_layer_sizes=[3,2], max_iter=200).fit(xFTTrain, yFTTrain)\n",
        "ypredFTs = clf3.predict(xPJTest)\n",
        "f1FT = f1_score(yFTTest, ypredFTs, average='micro')\n",
        "\n",
        "clf4 = MLPClassifier(hidden_layer_sizes=[3,2], max_iter=200).fit(xPJTrain, yPJTrain)\n",
        "ypredPJs = clf4.predict(xPJTest)\n",
        "f1PJ = f1_score(yPJTest, ypredPJs, average='micro')"
      ],
      "metadata": {
        "id": "VqdtDYmKLohE"
      },
      "execution_count": null,
      "outputs": []
    },
    {
      "cell_type": "code",
      "source": [
        "print(\"Results : Testing\")\n",
        "print(\"------------------\")\n",
        "\n",
        "print(\"I/E :\")\n",
        "print(f1IE)\n",
        "print(\"N/S :\")\n",
        "print(f1NS)\n",
        "print(\"F/T :\")\n",
        "print(f1FT)\n",
        "print(\"P/J :\")\n",
        "print(f1PJ)"
      ],
      "metadata": {
        "id": "bDpGEtdMNGJu",
        "colab": {
          "base_uri": "https://localhost:8080/"
        },
        "outputId": "2b630eb8-f500-4c59-bb2d-0ac1c9022466"
      },
      "execution_count": null,
      "outputs": [
        {
          "output_type": "stream",
          "name": "stdout",
          "text": [
            "Results : Testing\n",
            "------------------\n",
            "I/E :\n",
            "0.7505763024435225\n",
            "N/S :\n",
            "0.8547717842323651\n",
            "F/T :\n",
            "0.5076071922544951\n",
            "P/J :\n",
            "0.6353158137390502\n"
          ]
        }
      ]
    },
    {
      "cell_type": "code",
      "source": [
        "X = ['I/E','N/S', 'F/T', 'P/J']\n",
        "yXB = [f1_xgboostIE,f1_xgboostNS,f1_xgboostFT,f1_xgboostPJ]\n",
        "yMLP = [f1IE,f1NS,f1FT,f1PJ]\n",
        "\n",
        "\n",
        "X_axis = np.arange(len(X))\n",
        "plt.figure(figsize=(10,7))   \n",
        "plt.bar(X_axis - 0.2, yMLP, 0.2, label = 'MLP',color = 'maroon',edgecolor = 'black')\n",
        "plt.bar(X_axis + 0.2, yXB, 0.2, label = 'XGboost',color = 'b',edgecolor = 'black')\n",
        "  \n",
        "plt.xticks(X_axis, X)\n",
        "plt.xlabel(\"4 MBTI Axis\")\n",
        "plt.ylabel(\"F1 Score\")\n",
        "plt.title(\"Comparision of MLP & XGboost\")\n",
        "plt.legend()"
      ],
      "metadata": {
        "colab": {
          "base_uri": "https://localhost:8080/",
          "height": 502
        },
        "id": "0yY_-1jZjwFx",
        "outputId": "8998efcb-a3a6-4275-901c-720177b7edf9"
      },
      "execution_count": null,
      "outputs": [
        {
          "output_type": "execute_result",
          "data": {
            "text/plain": [
              "<matplotlib.legend.Legend at 0x7f9c05c094d0>"
            ]
          },
          "metadata": {},
          "execution_count": 120
        },
        {
          "output_type": "display_data",
          "data": {
            "image/png": "[encoded data removed]",
            "text/plain": [
              "<Figure size 720x504 with 1 Axes>"
            ]
          },
          "metadata": {
            "needs_background": "light"
          }
        }
      ]
    },
    {
      "cell_type": "markdown",
      "source": [
        "We can see that XGboost has also outperformed MLP.\n",
        "**So we are considering XGBoost as out final model.**"
      ],
      "metadata": {
        "id": "5kh8nD_XV7pK"
      }
    },
    {
      "cell_type": "markdown",
      "source": [
        "\n",
        "\n",
        "---\n",
        "\n",
        "\n",
        "\n",
        "---\n",
        "\n"
      ],
      "metadata": {
        "id": "JrYWUr-1a8kB"
      }
    },
    {
      "cell_type": "markdown",
      "source": [
        "## **Predicting Jatin's Personality**"
      ],
      "metadata": {
        "id": "o1cCD_2og7r8"
      }
    },
    {
      "cell_type": "code",
      "source": [
        "statement= \"I have been try to meet you but stuck in some work ||| I am really concern about him for his bad health ||| I will get some time from my busy schedule to plant trees around you so that you will be more benefited.||| He is so sweet in nature ||| I like to wear good apperals. I love to travel and i went to California once where I enjoyed a lot. I wanna do cooking in most of my free time\""
      ],
      "metadata": {
        "id": "6kBAtv3-f-Ns"
      },
      "execution_count": null,
      "outputs": []
    },
    {
      "cell_type": "code",
      "source": [
        "data = [['INJF',statement]]\n",
        "myStatement = pd.DataFrame(data,columns=['type','posts'])\n",
        "my_posts = preprocessing(myStatement)"
      ],
      "metadata": {
        "id": "aF9mtyZef-Ns"
      },
      "execution_count": null,
      "outputs": []
    },
    {
      "cell_type": "code",
      "source": [
        "my_posts"
      ],
      "metadata": {
        "colab": {
          "base_uri": "https://localhost:8080/",
          "height": 81
        },
        "outputId": "2a455f12-41c2-402a-82de-0d2366ef469b",
        "id": "7oyc9U8cf-Ns"
      },
      "execution_count": null,
      "outputs": [
        {
          "output_type": "execute_result",
          "data": {
            "text/html": [
              "<div>\n",
              "<style scoped>\n",
              "    .dataframe tbody tr th:only-of-type {\n",
              "        vertical-align: middle;\n",
              "    }\n",
              "\n",
              "    .dataframe tbody tr th {\n",
              "        vertical-align: top;\n",
              "    }\n",
              "\n",
              "    .dataframe thead th {\n",
              "        text-align: right;\n",
              "    }\n",
              "</style>\n",
              "<table border=\"1\" class=\"dataframe\">\n",
              "  <thead>\n",
              "    <tr style=\"text-align: right;\">\n",
              "      <th></th>\n",
              "      <th>type</th>\n",
              "      <th>posts</th>\n",
              "    </tr>\n",
              "  </thead>\n",
              "  <tbody>\n",
              "    <tr>\n",
              "      <th>0</th>\n",
              "      <td>INJF</td>\n",
              "      <td>meet stuck work really concern health time bus...</td>\n",
              "    </tr>\n",
              "  </tbody>\n",
              "</table>\n",
              "</div>"
            ],
            "text/plain": [
              "   type                                              posts\n",
              "0  INJF  meet stuck work really concern health time bus..."
            ]
          },
          "metadata": {},
          "execution_count": 80
        }
      ]
    },
    {
      "cell_type": "code",
      "source": [
        "xCV = cv.transform(my_posts['posts'])\n",
        "X_tfidf =  tfidf.transform(xCV).toarray()\n",
        "\n",
        "Y_pred_IE = xgbIE.predict(X_tfidf)\n",
        "Y_pred_NS = xgbNS.predict(X_tfidf)\n",
        "Y_pred_FT = xgbFT.predict(X_tfidf)\n",
        "Y_pred_PJ = xgbPJ.predict(X_tfidf)"
      ],
      "metadata": {
        "id": "wSLzOv5Pf-Ns"
      },
      "execution_count": null,
      "outputs": []
    },
    {
      "cell_type": "code",
      "source": [
        "Y_pred_IE"
      ],
      "metadata": {
        "colab": {
          "base_uri": "https://localhost:8080/"
        },
        "outputId": "9f40cab5-c838-4528-d36c-fc4e91019084",
        "id": "bKzsnmwnf-Nt"
      },
      "execution_count": null,
      "outputs": [
        {
          "output_type": "execute_result",
          "data": {
            "text/plain": [
              "array(['I'], dtype=object)"
            ]
          },
          "metadata": {},
          "execution_count": 82
        }
      ]
    },
    {
      "cell_type": "code",
      "source": [
        "Y_pred_NS"
      ],
      "metadata": {
        "colab": {
          "base_uri": "https://localhost:8080/"
        },
        "outputId": "83033c5a-d466-4785-b347-4029c736ad64",
        "id": "r7xjqvMcf-Nt"
      },
      "execution_count": null,
      "outputs": [
        {
          "output_type": "execute_result",
          "data": {
            "text/plain": [
              "array(['N'], dtype=object)"
            ]
          },
          "metadata": {},
          "execution_count": 83
        }
      ]
    },
    {
      "cell_type": "code",
      "source": [
        "Y_pred_FT"
      ],
      "metadata": {
        "colab": {
          "base_uri": "https://localhost:8080/"
        },
        "outputId": "a20df8fa-a708-4c66-c63b-8828e49b3bc1",
        "id": "izDBknEXf-Nt"
      },
      "execution_count": null,
      "outputs": [
        {
          "output_type": "execute_result",
          "data": {
            "text/plain": [
              "array(['F'], dtype=object)"
            ]
          },
          "metadata": {},
          "execution_count": 84
        }
      ]
    },
    {
      "cell_type": "code",
      "source": [
        "Y_pred_PJ"
      ],
      "metadata": {
        "colab": {
          "base_uri": "https://localhost:8080/"
        },
        "outputId": "e225eeb2-21f1-4262-cb03-771a278a898e",
        "id": "1j7lpTXAf-Nt"
      },
      "execution_count": null,
      "outputs": [
        {
          "output_type": "execute_result",
          "data": {
            "text/plain": [
              "array(['P'], dtype=object)"
            ]
          },
          "metadata": {},
          "execution_count": 85
        }
      ]
    }
  ],
  "metadata": {
    "colab": {
      "collapsed_sections": [],
      "name": "Project on Brigg-Mayer's Personality Prediction.ipynb",
      "provenance": []
    },
    "kernelspec": {
      "display_name": "Python 3",
      "name": "python3"
    },
    "language_info": {
      "name": "python"
    }
  },
  "nbformat": 4,
  "nbformat_minor": 0
}